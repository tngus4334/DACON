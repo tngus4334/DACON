{
  "nbformat": 4,
  "nbformat_minor": 0,
  "metadata": {
    "colab": {
      "name": "손동작분류 경진대회.ipynb",
      "provenance": [],
      "authorship_tag": "ABX9TyMJ2XAbCO1IUyW3fqagUUqe"
    },
    "kernelspec": {
      "name": "python3",
      "display_name": "Python 3"
    },
    "language_info": {
      "name": "python"
    }
  },
  "cells": [
    {
      "cell_type": "code",
      "source": [
        "pip install optuna"
      ],
      "metadata": {
        "colab": {
          "base_uri": "https://localhost:8080/"
        },
        "id": "hviYCYjAKf_U",
        "outputId": "171f5e4c-9b25-4f71-afd2-ddabc55956bd"
      },
      "execution_count": null,
      "outputs": [
        {
          "output_type": "stream",
          "name": "stdout",
          "text": [
            "Collecting optuna\n",
            "  Downloading optuna-2.10.0-py3-none-any.whl (308 kB)\n",
            "\u001b[?25l\r\u001b[K     |█                               | 10 kB 21.0 MB/s eta 0:00:01\r\u001b[K     |██▏                             | 20 kB 9.9 MB/s eta 0:00:01\r\u001b[K     |███▏                            | 30 kB 6.2 MB/s eta 0:00:01\r\u001b[K     |████▎                           | 40 kB 5.8 MB/s eta 0:00:01\r\u001b[K     |█████▎                          | 51 kB 2.7 MB/s eta 0:00:01\r\u001b[K     |██████▍                         | 61 kB 3.2 MB/s eta 0:00:01\r\u001b[K     |███████▍                        | 71 kB 3.4 MB/s eta 0:00:01\r\u001b[K     |████████▌                       | 81 kB 3.6 MB/s eta 0:00:01\r\u001b[K     |█████████▋                      | 92 kB 4.0 MB/s eta 0:00:01\r\u001b[K     |██████████▋                     | 102 kB 3.2 MB/s eta 0:00:01\r\u001b[K     |███████████▊                    | 112 kB 3.2 MB/s eta 0:00:01\r\u001b[K     |████████████▊                   | 122 kB 3.2 MB/s eta 0:00:01\r\u001b[K     |█████████████▉                  | 133 kB 3.2 MB/s eta 0:00:01\r\u001b[K     |██████████████▉                 | 143 kB 3.2 MB/s eta 0:00:01\r\u001b[K     |████████████████                | 153 kB 3.2 MB/s eta 0:00:01\r\u001b[K     |█████████████████               | 163 kB 3.2 MB/s eta 0:00:01\r\u001b[K     |██████████████████              | 174 kB 3.2 MB/s eta 0:00:01\r\u001b[K     |███████████████████▏            | 184 kB 3.2 MB/s eta 0:00:01\r\u001b[K     |████████████████████▏           | 194 kB 3.2 MB/s eta 0:00:01\r\u001b[K     |█████████████████████▎          | 204 kB 3.2 MB/s eta 0:00:01\r\u001b[K     |██████████████████████▎         | 215 kB 3.2 MB/s eta 0:00:01\r\u001b[K     |███████████████████████▍        | 225 kB 3.2 MB/s eta 0:00:01\r\u001b[K     |████████████████████████▌       | 235 kB 3.2 MB/s eta 0:00:01\r\u001b[K     |█████████████████████████▌      | 245 kB 3.2 MB/s eta 0:00:01\r\u001b[K     |██████████████████████████▋     | 256 kB 3.2 MB/s eta 0:00:01\r\u001b[K     |███████████████████████████▋    | 266 kB 3.2 MB/s eta 0:00:01\r\u001b[K     |████████████████████████████▊   | 276 kB 3.2 MB/s eta 0:00:01\r\u001b[K     |█████████████████████████████▊  | 286 kB 3.2 MB/s eta 0:00:01\r\u001b[K     |██████████████████████████████▉ | 296 kB 3.2 MB/s eta 0:00:01\r\u001b[K     |████████████████████████████████| 307 kB 3.2 MB/s eta 0:00:01\r\u001b[K     |████████████████████████████████| 308 kB 3.2 MB/s \n",
            "\u001b[?25hRequirement already satisfied: packaging>=20.0 in /usr/local/lib/python3.7/dist-packages (from optuna) (21.3)\n",
            "Collecting cmaes>=0.8.2\n",
            "  Downloading cmaes-0.8.2-py3-none-any.whl (15 kB)\n",
            "Collecting colorlog\n",
            "  Downloading colorlog-6.6.0-py2.py3-none-any.whl (11 kB)\n",
            "Requirement already satisfied: tqdm in /usr/local/lib/python3.7/dist-packages (from optuna) (4.63.0)\n",
            "Requirement already satisfied: PyYAML in /usr/local/lib/python3.7/dist-packages (from optuna) (3.13)\n",
            "Collecting alembic\n",
            "  Downloading alembic-1.7.7-py3-none-any.whl (210 kB)\n",
            "\u001b[K     |████████████████████████████████| 210 kB 51.2 MB/s \n",
            "\u001b[?25hRequirement already satisfied: numpy in /usr/local/lib/python3.7/dist-packages (from optuna) (1.21.5)\n",
            "Requirement already satisfied: scipy!=1.4.0 in /usr/local/lib/python3.7/dist-packages (from optuna) (1.4.1)\n",
            "Requirement already satisfied: sqlalchemy>=1.1.0 in /usr/local/lib/python3.7/dist-packages (from optuna) (1.4.32)\n",
            "Collecting cliff\n",
            "  Downloading cliff-3.10.1-py3-none-any.whl (81 kB)\n",
            "\u001b[K     |████████████████████████████████| 81 kB 8.4 MB/s \n",
            "\u001b[?25hRequirement already satisfied: pyparsing!=3.0.5,>=2.0.2 in /usr/local/lib/python3.7/dist-packages (from packaging>=20.0->optuna) (3.0.7)\n",
            "Requirement already satisfied: importlib-metadata in /usr/local/lib/python3.7/dist-packages (from sqlalchemy>=1.1.0->optuna) (4.11.2)\n",
            "Requirement already satisfied: greenlet!=0.4.17 in /usr/local/lib/python3.7/dist-packages (from sqlalchemy>=1.1.0->optuna) (1.1.2)\n",
            "Collecting Mako\n",
            "  Downloading Mako-1.2.0-py3-none-any.whl (78 kB)\n",
            "\u001b[K     |████████████████████████████████| 78 kB 4.5 MB/s \n",
            "\u001b[?25hRequirement already satisfied: importlib-resources in /usr/local/lib/python3.7/dist-packages (from alembic->optuna) (5.4.0)\n",
            "Collecting stevedore>=2.0.1\n",
            "  Downloading stevedore-3.5.0-py3-none-any.whl (49 kB)\n",
            "\u001b[K     |████████████████████████████████| 49 kB 5.4 MB/s \n",
            "\u001b[?25hRequirement already satisfied: PrettyTable>=0.7.2 in /usr/local/lib/python3.7/dist-packages (from cliff->optuna) (3.2.0)\n",
            "Collecting autopage>=0.4.0\n",
            "  Downloading autopage-0.5.0-py3-none-any.whl (29 kB)\n",
            "Collecting cmd2>=1.0.0\n",
            "  Downloading cmd2-2.4.0-py3-none-any.whl (150 kB)\n",
            "\u001b[K     |████████████████████████████████| 150 kB 43.4 MB/s \n",
            "\u001b[?25hCollecting pbr!=2.1.0,>=2.0.0\n",
            "  Downloading pbr-5.8.1-py2.py3-none-any.whl (113 kB)\n",
            "\u001b[K     |████████████████████████████████| 113 kB 64.7 MB/s \n",
            "\u001b[?25hRequirement already satisfied: typing-extensions in /usr/local/lib/python3.7/dist-packages (from cmd2>=1.0.0->cliff->optuna) (3.10.0.2)\n",
            "Requirement already satisfied: wcwidth>=0.1.7 in /usr/local/lib/python3.7/dist-packages (from cmd2>=1.0.0->cliff->optuna) (0.2.5)\n",
            "Collecting pyperclip>=1.6\n",
            "  Downloading pyperclip-1.8.2.tar.gz (20 kB)\n",
            "Requirement already satisfied: attrs>=16.3.0 in /usr/local/lib/python3.7/dist-packages (from cmd2>=1.0.0->cliff->optuna) (21.4.0)\n",
            "Requirement already satisfied: zipp>=0.5 in /usr/local/lib/python3.7/dist-packages (from importlib-metadata->sqlalchemy>=1.1.0->optuna) (3.7.0)\n",
            "Requirement already satisfied: MarkupSafe>=0.9.2 in /usr/local/lib/python3.7/dist-packages (from Mako->alembic->optuna) (2.0.1)\n",
            "Building wheels for collected packages: pyperclip\n",
            "  Building wheel for pyperclip (setup.py) ... \u001b[?25l\u001b[?25hdone\n",
            "  Created wheel for pyperclip: filename=pyperclip-1.8.2-py3-none-any.whl size=11137 sha256=02aa5eb129aeb1c19209c8e15346759a12a95bafc84b1460c581254c06e3c855\n",
            "  Stored in directory: /root/.cache/pip/wheels/9f/18/84/8f69f8b08169c7bae2dde6bd7daf0c19fca8c8e500ee620a28\n",
            "Successfully built pyperclip\n",
            "Installing collected packages: pyperclip, pbr, stevedore, Mako, cmd2, autopage, colorlog, cmaes, cliff, alembic, optuna\n",
            "Successfully installed Mako-1.2.0 alembic-1.7.7 autopage-0.5.0 cliff-3.10.1 cmaes-0.8.2 cmd2-2.4.0 colorlog-6.6.0 optuna-2.10.0 pbr-5.8.1 pyperclip-1.8.2 stevedore-3.5.0\n"
          ]
        }
      ]
    },
    {
      "cell_type": "code",
      "execution_count": null,
      "metadata": {
        "id": "xbBlOzRvKP-1"
      },
      "outputs": [],
      "source": [
        "# Basic Library\n",
        "import pandas as pd\n",
        "import numpy as np\n",
        "import os\n",
        "\n",
        "# Preprocessing\n",
        "from sklearn.preprocessing import OneHotEncoder\n",
        "\n",
        "# HP Tuning\n",
        "import optuna\n",
        "from optuna import Trial\n",
        "from optuna.samplers import TPESampler\n",
        "from optuna.visualization import plot_contour, plot_optimization_history\n",
        "from optuna.visualization import plot_parallel_coordinate, plot_slice, plot_param_importances\n",
        "\n",
        "# Modeling\n",
        "from sklearn.model_selection import StratifiedKFold\n",
        "from sklearn.metrics import accuracy_score, log_loss\n",
        "import tensorflow as tf\n",
        "import keras\n",
        "from tensorflow.keras.layers import Conv2D, BatchNormalization, Dropout, Dense, GlobalAveragePooling2D\n",
        "from tensorflow.keras.models import Sequential, load_model\n",
        "from tensorflow.keras.optimizers import Adam\n",
        "from tensorflow.keras.callbacks import EarlyStopping, ModelCheckpoint\n",
        "os.environ['TF_CPP_MIN_LOG_LEVEL'] = '3'"
      ]
    },
    {
      "cell_type": "code",
      "source": [
        "train = pd.read_csv('train.csv')\n",
        "test = pd.read_csv('test.csv')\n",
        "submission = pd.read_csv('sample_submission.csv')"
      ],
      "metadata": {
        "id": "xECKwGjhKU0W"
      },
      "execution_count": null,
      "outputs": []
    },
    {
      "cell_type": "code",
      "source": [
        "train_x = train.iloc[:, 1:-1]\n",
        "test_x = test.iloc[:, 1:]\n",
        "\n",
        "train_x = np.array(train_x).reshape(-1, 8, 4, 1)\n",
        "test_x = np.array(test_x).reshape(-1, 8, 4, 1)\n",
        "\n",
        "ohe = OneHotEncoder(sparse = False)\n",
        "train_y = ohe.fit_transform(train[['target']])"
      ],
      "metadata": {
        "id": "8nxo_B3kKcpp"
      },
      "execution_count": null,
      "outputs": []
    },
    {
      "cell_type": "code",
      "source": [
        "def create_model(num_layer, mid_units, num_filters):\n",
        "    \n",
        "    model = Sequential()\n",
        "    model.add(Conv2D(filters=num_filters[0], kernel_size=(2, 2),\n",
        "                 activation=\"elu\",\n",
        "                 input_shape=(8, 4, 1)))\n",
        "    model.add(BatchNormalization())\n",
        "\n",
        "    for i in range(1,num_layer):\n",
        "        model.add(Conv2D(filters=num_filters[i], kernel_size=(2, 2), padding=\"same\", activation=\"elu\"))\n",
        "        model.add(BatchNormalization())\n",
        "\n",
        "            \n",
        "    model.add(GlobalAveragePooling2D())\n",
        "    model.add(Dense(mid_units, activation='relu'))\n",
        "    model.add(Dense(4, activation='softmax'))\n",
        "    \n",
        "    return model"
      ],
      "metadata": {
        "id": "lzhIEa4nKcr6"
      },
      "execution_count": null,
      "outputs": []
    },
    {
      "cell_type": "code",
      "source": [
        "def cnn_objective(trial: Trial) -> float:\n",
        "    \n",
        "    #clear_session\n",
        "    keras.backend.clear_session()\n",
        "    \n",
        "    #number of the convolution layer\n",
        "    num_layer = trial.suggest_int(\"num_layer\", 2, 3)\n",
        "    \n",
        "    #number of the unit\n",
        "    mid_units = int(trial.suggest_discrete_uniform(\"mid_units\", 30, 150, 10))\n",
        "    \n",
        "    #number of the each convolution layer filter\n",
        "    num_filters = [int(trial.suggest_discrete_uniform(\"num_filter_\"+str(i), 16, 256, 16)) for i in range(num_layer)]\n",
        "\n",
        "    #Dropout\n",
        "    dropout_rate = trial.suggest_uniform('dropout_rate', 0.0, 0.5)\n",
        "    dropout_rate = [int(trial.suggest_uniform(\"dropout_rate\"+str(ii), 0.0, 0.5)) for ii in range(num_layer+1)]\n",
        "    \n",
        "        \n",
        "    seed = 42\n",
        "    kfold = StratifiedKFold(n_splits=5, random_state = seed, shuffle = True) # Cross-validation cv=5\n",
        "    es = EarlyStopping(monitor=\"val_acc\", patience=5, mode=\"max\", verbose=0)\n",
        "    cv = np.zeros((train_x.shape[0], 4))\n",
        "\n",
        "    for n, (train_idx, val_idx) in enumerate(kfold.split(train_x, train.target)):\n",
        "\n",
        "        x_train, y_train = train_x[train_idx], train_y[train_idx]\n",
        "        x_val, y_val = train_x[val_idx], train_y[val_idx]\n",
        "        \n",
        "        mc = ModelCheckpoint(f\"model_{n+1}.h5\", save_best_only=True, monitor=\"val_acc\", mode=\"max\", verbose=0)\n",
        "        \n",
        "        model = create_model(num_layer, mid_units, num_filters)\n",
        "        \n",
        "        # Adam optimizer learning rate\n",
        "        optimizer = Adam(learning_rate=trial.suggest_uniform(\"learning_rate\", 0.0005, 0.005))\n",
        "        model.compile(optimizer=optimizer,\n",
        "                      loss=\"categorical_crossentropy\",\n",
        "                      metrics=[\"acc\"])\n",
        "        model.fit(x_train, y_train, validation_data=(x_val, y_val), epochs=100, batch_size=32, \n",
        "                  callbacks=[es,mc], verbose=None)\n",
        "        \n",
        "        best = load_model(f\"model_{n+1}.h5\")\n",
        "        \n",
        "        cv[val_idx, :] = best.predict(x_val)\n",
        "        \n",
        "    print('multi_logloss:', log_loss(train_y, cv))\n",
        "    print('accuracy_score:', accuracy_score(np.argmax(train_y, axis=1), np.argmax(cv, axis=1)))\n",
        "\n",
        "    \n",
        "    return accuracy_score(np.argmax(train_y, axis=1), np.argmax(cv, axis=1))"
      ],
      "metadata": {
        "id": "TO9hvHp5KcuI"
      },
      "execution_count": null,
      "outputs": []
    },
    {
      "cell_type": "code",
      "source": [
        "sampler = TPESampler(seed=42)\n",
        "cnn_study = optuna.create_study(study_name=\"cnn_parameter_opt\", direction=\"maximize\", sampler=sampler)\n",
        "cnn_study.optimize(cnn_objective, n_trials=20)"
      ],
      "metadata": {
        "colab": {
          "base_uri": "https://localhost:8080/"
        },
        "id": "gLE1V3DEKohT",
        "outputId": "3b9a6e09-717f-4a15-f82f-e42dd967edab"
      },
      "execution_count": null,
      "outputs": [
        {
          "output_type": "stream",
          "name": "stderr",
          "text": [
            "\u001b[32m[I 2022-03-15 16:35:31,317]\u001b[0m A new study created in memory with name: cnn_parameter_opt\u001b[0m\n",
            "\u001b[32m[I 2022-03-15 16:38:09,290]\u001b[0m Trial 0 finished with value: 0.867237687366167 and parameters: {'num_layer': 2, 'mid_units': 150.0, 'num_filter_0': 192.0, 'num_filter_1': 160.0, 'dropout_rate': 0.07800932022121826, 'dropout_rate0': 0.07799726016810132, 'dropout_rate1': 0.02904180608409973, 'dropout_rate2': 0.4330880728874676, 'learning_rate': 0.00320501755284444}. Best is trial 0 with value: 0.867237687366167.\u001b[0m\n"
          ]
        },
        {
          "output_type": "stream",
          "name": "stdout",
          "text": [
            "multi_logloss: 0.38342003817367176\n",
            "accuracy_score: 0.867237687366167\n"
          ]
        },
        {
          "output_type": "stream",
          "name": "stderr",
          "text": [
            "\u001b[32m[I 2022-03-15 16:42:59,047]\u001b[0m Trial 1 finished with value: 0.8728051391862955 and parameters: {'num_layer': 3, 'mid_units': 30.0, 'num_filter_0': 256.0, 'num_filter_1': 224.0, 'num_filter_2': 64.0, 'dropout_rate': 0.09091248360355031, 'dropout_rate0': 0.09170225492671691, 'dropout_rate1': 0.15212112147976886, 'dropout_rate2': 0.2623782158161189, 'dropout_rate3': 0.21597250932105788, 'learning_rate': 0.0018105311308911887}. Best is trial 1 with value: 0.8728051391862955.\u001b[0m\n"
          ]
        },
        {
          "output_type": "stream",
          "name": "stdout",
          "text": [
            "multi_logloss: 0.37823853934889207\n",
            "accuracy_score: 0.8728051391862955\n"
          ]
        },
        {
          "output_type": "stream",
          "name": "stderr",
          "text": [
            "\u001b[32m[I 2022-03-15 16:44:32,774]\u001b[0m Trial 2 finished with value: 0.8740899357601714 and parameters: {'num_layer': 3, 'mid_units': 40.0, 'num_filter_0': 80.0, 'num_filter_1': 96.0, 'num_filter_2': 128.0, 'dropout_rate': 0.3925879806965068, 'dropout_rate0': 0.09983689107917987, 'dropout_rate1': 0.2571172192068058, 'dropout_rate2': 0.29620728443102123, 'dropout_rate3': 0.023225206359998862, 'learning_rate': 0.003233951833556473}. Best is trial 2 with value: 0.8740899357601714.\u001b[0m\n"
          ]
        },
        {
          "output_type": "stream",
          "name": "stdout",
          "text": [
            "multi_logloss: 0.41362400646119557\n",
            "accuracy_score: 0.8740899357601714\n"
          ]
        },
        {
          "output_type": "stream",
          "name": "stderr",
          "text": [
            "\u001b[32m[I 2022-03-15 16:47:50,265]\u001b[0m Trial 3 finished with value: 0.867237687366167 and parameters: {'num_layer': 2, 'mid_units': 30.0, 'num_filter_0': 256.0, 'num_filter_1': 256.0, 'dropout_rate': 0.40419867405823057, 'dropout_rate0': 0.15230688458668534, 'dropout_rate1': 0.048836057003191935, 'dropout_rate2': 0.34211651325607845, 'learning_rate': 0.002480686221828206}. Best is trial 2 with value: 0.8740899357601714.\u001b[0m\n"
          ]
        },
        {
          "output_type": "stream",
          "name": "stdout",
          "text": [
            "multi_logloss: 0.3883901069040703\n",
            "accuracy_score: 0.867237687366167\n"
          ]
        },
        {
          "output_type": "stream",
          "name": "stderr",
          "text": [
            "\u001b[32m[I 2022-03-15 16:48:51,391]\u001b[0m Trial 4 finished with value: 0.8638115631691649 and parameters: {'num_layer': 2, 'mid_units': 90.0, 'num_filter_0': 16.0, 'num_filter_1': 240.0, 'dropout_rate': 0.12938999080000846, 'dropout_rate0': 0.331261142176991, 'dropout_rate1': 0.15585553804470548, 'dropout_rate2': 0.2600340105889054, 'learning_rate': 0.0029601962570447587}. Best is trial 2 with value: 0.8740899357601714.\u001b[0m\n"
          ]
        },
        {
          "output_type": "stream",
          "name": "stdout",
          "text": [
            "multi_logloss: 0.4067048817058152\n",
            "accuracy_score: 0.8638115631691649\n"
          ]
        },
        {
          "output_type": "stream",
          "name": "stderr",
          "text": [
            "\u001b[32m[I 2022-03-15 16:54:24,855]\u001b[0m Trial 5 finished with value: 0.8736616702355461 and parameters: {'num_layer': 2, 'mid_units': 150.0, 'num_filter_0': 208.0, 'num_filter_1': 256.0, 'dropout_rate': 0.4474136752138244, 'dropout_rate0': 0.29894998940554257, 'dropout_rate1': 0.4609371175115584, 'dropout_rate2': 0.04424625102595975, 'learning_rate': 0.0013819228808861534}. Best is trial 2 with value: 0.8740899357601714.\u001b[0m\n"
          ]
        },
        {
          "output_type": "stream",
          "name": "stdout",
          "text": [
            "multi_logloss: 0.3670306743317489\n",
            "accuracy_score: 0.8736616702355461\n"
          ]
        },
        {
          "output_type": "stream",
          "name": "stderr",
          "text": [
            "\u001b[32m[I 2022-03-15 16:55:32,268]\u001b[0m Trial 6 finished with value: 0.8680942184154176 and parameters: {'num_layer': 2, 'mid_units': 70.0, 'num_filter_0': 112.0, 'num_filter_1': 80.0, 'dropout_rate': 0.41436875457596467, 'dropout_rate0': 0.17837666334679464, 'dropout_rate1': 0.14046725484369038, 'dropout_rate2': 0.27134804157912423, 'learning_rate': 0.001134159012386432}. Best is trial 2 with value: 0.8740899357601714.\u001b[0m\n"
          ]
        },
        {
          "output_type": "stream",
          "name": "stdout",
          "text": [
            "multi_logloss: 0.39191375483043994\n",
            "accuracy_score: 0.8680942184154176\n"
          ]
        },
        {
          "output_type": "stream",
          "name": "stderr",
          "text": [
            "\u001b[32m[I 2022-03-15 17:00:27,994]\u001b[0m Trial 7 finished with value: 0.8676659528907923 and parameters: {'num_layer': 3, 'mid_units': 30.0, 'num_filter_0': 256.0, 'num_filter_1': 208.0, 'num_filter_2': 64.0, 'dropout_rate': 0.0027610585618011996, 'dropout_rate0': 0.4077307142274171, 'dropout_rate1': 0.35342867192380856, 'dropout_rate2': 0.36450358402049365, 'dropout_rate3': 0.38563517334297287, 'learning_rate': 0.0008332009328034067}. Best is trial 2 with value: 0.8740899357601714.\u001b[0m\n"
          ]
        },
        {
          "output_type": "stream",
          "name": "stdout",
          "text": [
            "multi_logloss: 0.37947543078618307\n",
            "accuracy_score: 0.8676659528907923\n"
          ]
        },
        {
          "output_type": "stream",
          "name": "stderr",
          "text": [
            "\u001b[32m[I 2022-03-15 17:02:55,821]\u001b[0m Trial 8 finished with value: 0.8668094218415417 and parameters: {'num_layer': 2, 'mid_units': 40.0, 'num_filter_0': 224.0, 'num_filter_1': 160.0, 'dropout_rate': 0.1654490124263246, 'dropout_rate0': 0.03177917514301182, 'dropout_rate1': 0.1554911608578311, 'dropout_rate2': 0.16259166101337352, 'learning_rate': 0.0037832278025212887}. Best is trial 2 with value: 0.8740899357601714.\u001b[0m\n"
          ]
        },
        {
          "output_type": "stream",
          "name": "stdout",
          "text": [
            "multi_logloss: 0.3922280739463057\n",
            "accuracy_score: 0.8668094218415417\n"
          ]
        },
        {
          "output_type": "stream",
          "name": "stderr",
          "text": [
            "\u001b[32m[I 2022-03-15 17:04:12,131]\u001b[0m Trial 9 finished with value: 0.8698072805139186 and parameters: {'num_layer': 3, 'mid_units': 140.0, 'num_filter_0': 128.0, 'num_filter_1': 32.0, 'num_filter_2': 192.0, 'dropout_rate': 0.3803925243084487, 'dropout_rate0': 0.2806385987847481, 'dropout_rate1': 0.3854835899772805, 'dropout_rate2': 0.24689779818219537, 'dropout_rate3': 0.26136641469099703, 'learning_rate': 0.0024239345826134735}. Best is trial 2 with value: 0.8740899357601714.\u001b[0m\n"
          ]
        },
        {
          "output_type": "stream",
          "name": "stdout",
          "text": [
            "multi_logloss: 0.3955235021940127\n",
            "accuracy_score: 0.8698072805139186\n"
          ]
        },
        {
          "output_type": "stream",
          "name": "stderr",
          "text": [
            "\u001b[32m[I 2022-03-15 17:06:25,050]\u001b[0m Trial 10 finished with value: 0.8612419700214132 and parameters: {'num_layer': 3, 'mid_units': 60.0, 'num_filter_0': 48.0, 'num_filter_1': 96.0, 'num_filter_2': 256.0, 'dropout_rate': 0.28760403340763635, 'dropout_rate0': 0.47988537297271006, 'dropout_rate1': 0.2713272127278322, 'dropout_rate2': 0.47348093819507464, 'dropout_rate3': 0.006155584782468915, 'learning_rate': 0.004921462601717418}. Best is trial 2 with value: 0.8740899357601714.\u001b[0m\n"
          ]
        },
        {
          "output_type": "stream",
          "name": "stdout",
          "text": [
            "multi_logloss: 0.44495396745745663\n",
            "accuracy_score: 0.8612419700214132\n"
          ]
        },
        {
          "output_type": "stream",
          "name": "stderr",
          "text": [
            "\u001b[32m[I 2022-03-15 17:08:06,705]\u001b[0m Trial 11 finished with value: 0.867237687366167 and parameters: {'num_layer': 3, 'mid_units': 110.0, 'num_filter_0': 80.0, 'num_filter_1': 112.0, 'num_filter_2': 144.0, 'dropout_rate': 0.49657977296019684, 'dropout_rate0': 0.18791858137226364, 'dropout_rate1': 0.4698875930152806, 'dropout_rate2': 0.003312717201662062, 'dropout_rate3': 0.04073548284008621, 'learning_rate': 0.004058761091995755}. Best is trial 2 with value: 0.8740899357601714.\u001b[0m\n"
          ]
        },
        {
          "output_type": "stream",
          "name": "stdout",
          "text": [
            "multi_logloss: 0.4253668439270762\n",
            "accuracy_score: 0.867237687366167\n"
          ]
        },
        {
          "output_type": "stream",
          "name": "stderr",
          "text": [
            "\u001b[32m[I 2022-03-15 17:09:06,953]\u001b[0m Trial 12 finished with value: 0.8685224839400428 and parameters: {'num_layer': 2, 'mid_units': 120.0, 'num_filter_0': 176.0, 'num_filter_1': 48.0, 'dropout_rate': 0.2985512417317285, 'dropout_rate0': 0.2908035713097702, 'dropout_rate1': 0.4916334914420415, 'dropout_rate2': 0.059876584754694, 'learning_rate': 0.0015856803170538635}. Best is trial 2 with value: 0.8740899357601714.\u001b[0m\n"
          ]
        },
        {
          "output_type": "stream",
          "name": "stdout",
          "text": [
            "multi_logloss: 0.37550396534867725\n",
            "accuracy_score: 0.8685224839400428\n"
          ]
        },
        {
          "output_type": "stream",
          "name": "stderr",
          "text": [
            "\u001b[32m[I 2022-03-15 17:13:27,579]\u001b[0m Trial 13 finished with value: 0.8745182012847966 and parameters: {'num_layer': 3, 'mid_units': 90.0, 'num_filter_0': 176.0, 'num_filter_1': 192.0, 'num_filter_2': 128.0, 'dropout_rate': 0.4913603785333849, 'dropout_rate0': 0.36449201918354784, 'dropout_rate1': 0.27171219056756063, 'dropout_rate2': 0.11729867116189362, 'dropout_rate3': 0.16203099504837734, 'learning_rate': 0.001987795919279801}. Best is trial 13 with value: 0.8745182012847966.\u001b[0m\n"
          ]
        },
        {
          "output_type": "stream",
          "name": "stdout",
          "text": [
            "multi_logloss: 0.39514051977223036\n",
            "accuracy_score: 0.8745182012847966\n"
          ]
        },
        {
          "output_type": "stream",
          "name": "stderr",
          "text": [
            "\u001b[32m[I 2022-03-15 17:15:45,084]\u001b[0m Trial 14 finished with value: 0.8663811563169165 and parameters: {'num_layer': 3, 'mid_units': 70.0, 'num_filter_0': 160.0, 'num_filter_1': 176.0, 'num_filter_2': 128.0, 'dropout_rate': 0.34170324047699696, 'dropout_rate0': 0.3912625156378111, 'dropout_rate1': 0.24788031645382952, 'dropout_rate2': 0.13345187603777642, 'dropout_rate3': 0.14746799031449576, 'learning_rate': 0.003585815074364052}. Best is trial 13 with value: 0.8745182012847966.\u001b[0m\n"
          ]
        },
        {
          "output_type": "stream",
          "name": "stdout",
          "text": [
            "multi_logloss: 0.42539593752983357\n",
            "accuracy_score: 0.8663811563169165\n"
          ]
        },
        {
          "output_type": "stream",
          "name": "stderr",
          "text": [
            "\u001b[32m[I 2022-03-15 17:17:22,215]\u001b[0m Trial 15 finished with value: 0.8710920770877945 and parameters: {'num_layer': 3, 'mid_units': 90.0, 'num_filter_0': 80.0, 'num_filter_1': 128.0, 'num_filter_2': 128.0, 'dropout_rate': 0.4746084370909637, 'dropout_rate0': 0.37549861800626305, 'dropout_rate1': 0.26288418784884104, 'dropout_rate2': 0.1707750474677462, 'dropout_rate3': 0.11672863720509496, 'learning_rate': 0.00207057240460319}. Best is trial 13 with value: 0.8745182012847966.\u001b[0m\n"
          ]
        },
        {
          "output_type": "stream",
          "name": "stdout",
          "text": [
            "multi_logloss: 0.3890258517159415\n",
            "accuracy_score: 0.8710920770877945\n"
          ]
        },
        {
          "output_type": "stream",
          "name": "stderr",
          "text": [
            "\u001b[32m[I 2022-03-15 17:20:04,087]\u001b[0m Trial 16 finished with value: 0.8629550321199143 and parameters: {'num_layer': 3, 'mid_units': 50.0, 'num_filter_0': 96.0, 'num_filter_1': 192.0, 'num_filter_2': 176.0, 'dropout_rate': 0.2533881284358335, 'dropout_rate0': 0.4981535345701359, 'dropout_rate1': 0.3329024040995968, 'dropout_rate2': 0.10958900917836645, 'dropout_rate3': 0.2924094610906549, 'learning_rate': 0.003117975526648793}. Best is trial 13 with value: 0.8745182012847966.\u001b[0m\n"
          ]
        },
        {
          "output_type": "stream",
          "name": "stdout",
          "text": [
            "multi_logloss: 0.40088656146247204\n",
            "accuracy_score: 0.8629550321199143\n"
          ]
        },
        {
          "output_type": "stream",
          "name": "stderr",
          "text": [
            "\u001b[32m[I 2022-03-15 17:21:47,046]\u001b[0m Trial 17 finished with value: 0.8616702355460385 and parameters: {'num_layer': 3, 'mid_units': 110.0, 'num_filter_0': 144.0, 'num_filter_1': 80.0, 'num_filter_2': 96.0, 'dropout_rate': 0.19964732415940314, 'dropout_rate0': 0.20792899793942163, 'dropout_rate1': 0.2145139506750299, 'dropout_rate2': 0.20048311882612474, 'dropout_rate3': 0.4956385980718, 'learning_rate': 0.004393184721957363}. Best is trial 13 with value: 0.8745182012847966.\u001b[0m\n"
          ]
        },
        {
          "output_type": "stream",
          "name": "stdout",
          "text": [
            "multi_logloss: 0.43408409749057514\n",
            "accuracy_score: 0.8616702355460385\n"
          ]
        },
        {
          "output_type": "stream",
          "name": "stderr",
          "text": [
            "\u001b[32m[I 2022-03-15 17:23:24,652]\u001b[0m Trial 18 finished with value: 0.8753747323340471 and parameters: {'num_layer': 3, 'mid_units': 70.0, 'num_filter_0': 48.0, 'num_filter_1': 144.0, 'num_filter_2': 32.0, 'dropout_rate': 0.32583557757713705, 'dropout_rate0': 0.23872231069345606, 'dropout_rate1': 0.3166075758316285, 'dropout_rate2': 0.33830902526631385, 'dropout_rate3': 0.10377828026204407, 'learning_rate': 0.0021369668796081083}. Best is trial 18 with value: 0.8753747323340471.\u001b[0m\n"
          ]
        },
        {
          "output_type": "stream",
          "name": "stdout",
          "text": [
            "multi_logloss: 0.3654730191552402\n",
            "accuracy_score: 0.8753747323340471\n"
          ]
        },
        {
          "output_type": "stream",
          "name": "stderr",
          "text": [
            "\u001b[32m[I 2022-03-15 17:24:55,354]\u001b[0m Trial 19 finished with value: 0.8702355460385439 and parameters: {'num_layer': 3, 'mid_units': 90.0, 'num_filter_0': 16.0, 'num_filter_1': 144.0, 'num_filter_2': 16.0, 'dropout_rate': 0.3392282642821162, 'dropout_rate0': 0.23281265800003345, 'dropout_rate1': 0.3196302451826563, 'dropout_rate2': 0.3929614254344278, 'dropout_rate3': 0.13233021642421713, 'learning_rate': 0.0006436385337258109}. Best is trial 18 with value: 0.8753747323340471.\u001b[0m\n"
          ]
        },
        {
          "output_type": "stream",
          "name": "stdout",
          "text": [
            "multi_logloss: 0.39271916411200236\n",
            "accuracy_score: 0.8702355460385439\n"
          ]
        }
      ]
    },
    {
      "cell_type": "code",
      "source": [
        "optuna.visualization.matplotlib.plot_optimization_history(cnn_study);"
      ],
      "metadata": {
        "colab": {
          "base_uri": "https://localhost:8080/",
          "height": 355
        },
        "id": "LB9lP8NVKojx",
        "outputId": "31e5b4f8-11fe-4426-8dc6-c2622e6532c0"
      },
      "execution_count": null,
      "outputs": [
        {
          "output_type": "stream",
          "name": "stderr",
          "text": [
            "/usr/local/lib/python3.7/dist-packages/ipykernel_launcher.py:1: ExperimentalWarning: plot_optimization_history is experimental (supported from v2.2.0). The interface can change in the future.\n",
            "  \"\"\"Entry point for launching an IPython kernel.\n"
          ]
        },
        {
          "output_type": "display_data",
          "data": {
            "text/plain": [
              "<Figure size 432x288 with 1 Axes>"
            ],
            "image/png": "[encoded data removed]"
          },
          "metadata": {}
        }
      ]
    },
    {
      "cell_type": "code",
      "source": [
        "optuna.visualization.matplotlib.plot_param_importances(cnn_study);"
      ],
      "metadata": {
        "colab": {
          "base_uri": "https://localhost:8080/",
          "height": 298
        },
        "id": "JlOPhOZRKu2A",
        "outputId": "3f79e157-8641-479a-c130-bdd92c90fa0b"
      },
      "execution_count": null,
      "outputs": [
        {
          "output_type": "display_data",
          "data": {
            "text/plain": [
              "<Figure size 432x288 with 1 Axes>"
            ],
            "image/png": "[encoded data removed]"
          },
          "metadata": {}
        }
      ]
    },
    {
      "cell_type": "code",
      "source": [
        "optuna.visualization.matplotlib.plot_slice(cnn_study);"
      ],
      "metadata": {
        "colab": {
          "base_uri": "https://localhost:8080/",
          "height": 367
        },
        "id": "BRWkykPwKu4J",
        "outputId": "eecb5947-9528-4dc5-ccb6-11f2c41fb260"
      },
      "execution_count": null,
      "outputs": [
        {
          "output_type": "stream",
          "name": "stderr",
          "text": [
            "/usr/local/lib/python3.7/dist-packages/ipykernel_launcher.py:1: ExperimentalWarning: plot_slice is experimental (supported from v2.2.0). The interface can change in the future.\n",
            "  \"\"\"Entry point for launching an IPython kernel.\n"
          ]
        },
        {
          "output_type": "display_data",
          "data": {
            "text/plain": [
              "<Figure size 1296x288 with 7 Axes>"
            ],
            "image/png": "[encoded data removed]"
          },
          "metadata": {}
        }
      ]
    },
    {
      "cell_type": "code",
      "source": [
        "cnn_acc = []\n",
        "cnn_pred = np.zeros((test_x.shape[0], 4))\n",
        "seed = 42\n",
        "skf = StratifiedKFold(n_splits=5, random_state=42, shuffle=True)\n",
        "es = EarlyStopping(monitor=\"val_acc\", patience=5, mode=\"max\", verbose=0)\n",
        "\n",
        "for i, (train_idx, val_idx) in enumerate(skf.split(train_x, train.target)):\n",
        "    print(f\"{i+1} Fold Training.....\")\n",
        "    x_train, y_train = train_x[train_idx], train_y[train_idx]\n",
        "    x_val, y_val = train_x[val_idx], train_y[val_idx]\n",
        "    \n",
        "    cnn = create_model(cnn_study.best_params['num_layer'], cnn_study.best_params['mid_units'], \n",
        "                      [cnn_study.best_params[f'num_filter_{i}'] for i in range(cnn_study.best_params['num_layer'])])\n",
        "    \n",
        "    # ModelCheckpoint Fold마다 갱신\n",
        "    mc = ModelCheckpoint(f\"model_{i+1}.h5\", save_best_only=True, monitor=\"val_acc\", mode=\"max\", verbose=0)\n",
        "    \n",
        "    # 모델 Complie\n",
        "    optimizer = Adam(learning_rate=cnn_study.best_params['learning_rate'])\n",
        "    cnn.compile(optimizer=optimizer, loss=\"categorical_crossentropy\", metrics=[\"acc\"])\n",
        "    cnn.fit(x_train, y_train, validation_data=(x_val, y_val), epochs=100, batch_size=32, callbacks=[es,mc], verbose=0)\n",
        "    \n",
        "    # 최고 성능 기록 모델\n",
        "    best = load_model(f\"model_{i+1}.h5\")\n",
        "    \n",
        "    val_pred = best.predict(x_val)\n",
        "    \n",
        "    val_cls = np.argmax(val_pred, axis=1)\n",
        "    \n",
        "    fold_cnn_acc = accuracy_score(np.argmax(y_val, axis=1), val_cls)\n",
        "    cnn_acc.append(fold_cnn_acc)\n",
        "    print(f\"{i+1} Fold ACC of CNN = {fold_cnn_acc}\\n\")\n",
        "    \n",
        "    fold_pred = best.predict(test_x) / skf.n_splits\n",
        "    cnn_pred += fold_pred"
      ],
      "metadata": {
        "colab": {
          "base_uri": "https://localhost:8080/"
        },
        "id": "g5FqUrKsKx7X",
        "outputId": "c07ce7a1-5cce-4de9-f915-7286f2142743"
      },
      "execution_count": null,
      "outputs": [
        {
          "output_type": "stream",
          "name": "stdout",
          "text": [
            "1 Fold Training.....\n",
            "1 Fold ACC of CNN = 0.8586723768736617\n",
            "\n",
            "2 Fold Training.....\n",
            "2 Fold ACC of CNN = 0.8907922912205567\n",
            "\n",
            "3 Fold Training.....\n",
            "3 Fold ACC of CNN = 0.8629550321199143\n",
            "\n",
            "4 Fold Training.....\n",
            "4 Fold ACC of CNN = 0.8650963597430407\n",
            "\n",
            "5 Fold Training.....\n",
            "5 Fold ACC of CNN = 0.8779443254817987\n",
            "\n"
          ]
        }
      ]
    },
    {
      "cell_type": "code",
      "source": [
        "np.mean(cnn_acc)"
      ],
      "metadata": {
        "colab": {
          "base_uri": "https://localhost:8080/"
        },
        "id": "AM1ZdDqXKzLy",
        "outputId": "e8875ac9-e539-43b9-b849-6e633de1b574"
      },
      "execution_count": null,
      "outputs": [
        {
          "output_type": "execute_result",
          "data": {
            "text/plain": [
              "0.8710920770877945"
            ]
          },
          "metadata": {},
          "execution_count": 20
        }
      ]
    },
    {
      "cell_type": "code",
      "source": [
        "submission['target'] = np.argmax(cnn_pred, axis = 1)\n",
        "submission.to_csv('submission.csv', index = False)\n",
        "submission.target.value_counts()"
      ],
      "metadata": {
        "colab": {
          "base_uri": "https://localhost:8080/"
        },
        "id": "8dgMjRp7K0tW",
        "outputId": "dc5b4001-3e97-4d54-802b-739a61275e5f"
      },
      "execution_count": null,
      "outputs": [
        {
          "output_type": "execute_result",
          "data": {
            "text/plain": [
              "2    2402\n",
              "3    2380\n",
              "0    2302\n",
              "1    2259\n",
              "Name: target, dtype: int64"
            ]
          },
          "metadata": {},
          "execution_count": 21
        }
      ]
    },
    {
      "cell_type": "code",
      "source": [
        ""
      ],
      "metadata": {
        "id": "yuMoHG6ql6MM"
      },
      "execution_count": null,
      "outputs": []
    }
  ]
}