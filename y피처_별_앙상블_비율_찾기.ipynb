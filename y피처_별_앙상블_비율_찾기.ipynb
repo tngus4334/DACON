{
  "nbformat": 4,
  "nbformat_minor": 0,
  "metadata": {
    "colab": {
      "provenance": [],
      "collapsed_sections": [],
      "include_colab_link": true
    },
    "kernelspec": {
      "name": "python3",
      "display_name": "Python 3"
    },
    "language_info": {
      "name": "python"
    }
  },
  "cells": [
    {
      "cell_type": "markdown",
      "metadata": {
        "id": "view-in-github",
        "colab_type": "text"
      },
      "source": [
        "<a href=\"https://colab.research.google.com/github/tngus4334/LG-Aimers/blob/main/y%ED%94%BC%EC%B2%98_%EB%B3%84_%EC%95%99%EC%83%81%EB%B8%94_%EB%B9%84%EC%9C%A8_%EC%B0%BE%EA%B8%B0.ipynb\" target=\"_parent\"><img src=\"https://colab.research.google.com/assets/colab-badge.svg\" alt=\"Open In Colab\"/></a>"
      ]
    },
    {
      "cell_type": "markdown",
      "source": [
        "제출용 코드가 아니라 훈련 데이터셋 스플릿해서 점수 확인하는 코드에 사용하셔야 합니다."
      ],
      "metadata": {
        "id": "RPieDBG5pmaM"
      }
    },
    {
      "cell_type": "code",
      "source": [
        "model_gb = MultiOutputRegressor(GradientBoostingRegressor(learning_rate=0.012688323956682181, max_depth=9,\n",
        "                          max_features=0.5317748828007712,\n",
        "                          min_impurity_decrease=1.2229206693892366e-09,\n",
        "                          min_samples_leaf=2, min_samples_split=4,\n",
        "                          n_estimators=238, random_state=42,\n",
        "                          subsample=0.916882961309737)).fit(train_x, train_y)"
      ],
      "metadata": {
        "id": "fDCsQGEjonAS"
      },
      "execution_count": null,
      "outputs": []
    },
    {
      "cell_type": "code",
      "source": [
        "model_xgb = MultiOutputRegressor(xgb.XGBRegressor(olsample_bytree=0.8, silent=1, max_depth=7, learning_rate= 0.06, n_estimators=250,\n",
        "                           random_state =7, nthread = -1, n_jobs=-1)).fit(train_x, train_y)"
      ],
      "metadata": {
        "id": "oEK5Z1fJpSpT"
      },
      "execution_count": null,
      "outputs": []
    },
    {
      "cell_type": "code",
      "source": [
        "model_lgb = MultiOutputRegressor(lgb.LGBMRegressor(objective='regression',n_estimators=250, bagging_fraction=0.7, learning_rate=0.06,\n",
        "                         max_depth=7, subsample=0.7, feature_fraction=0.9, boosting_type='gbdt',\n",
        "                         colsample_bytree=0.5, reg_lambda=5, n_jobs=-1)).fit(train_x, train_y)"
      ],
      "metadata": {
        "id": "dtW0jN3vpUrT"
      },
      "execution_count": null,
      "outputs": []
    },
    {
      "cell_type": "code",
      "source": [
        "model_cat = MultiOutputRegressor(CatBoostRegressor(n_estimators=1300, learning_rate=0.03,\n",
        "                                   max_depth=7)).fit(train_x, train_y)"
      ],
      "metadata": {
        "id": "Z78k4_HBpU7L"
      },
      "execution_count": null,
      "outputs": []
    },
    {
      "cell_type": "code",
      "source": [
        "pred_gb = model_gb.predict(test_x)\n",
        "pred_xgb = model_xgb.predict(test_x)\n",
        "pred_lgb = model_lgb.predict(test_x)\n",
        "pred_cat = model_cat.predict(test_x)"
      ],
      "metadata": {
        "id": "sPp-Y1bFpV_7"
      },
      "execution_count": null,
      "outputs": []
    },
    {
      "cell_type": "code",
      "source": [
        "from sklearn.metrics import mean_squared_error as metrics\n",
        "from sklearn.metrics import mean_squared_error\n",
        "from math import sqrt"
      ],
      "metadata": {
        "id": "aaWu6Kp1pXdb"
      },
      "execution_count": null,
      "outputs": []
    },
    {
      "cell_type": "markdown",
      "source": [
        "y피처 별 최소 ensemble 찾기"
      ],
      "metadata": {
        "id": "D43RxMLnpeaD"
      }
    },
    {
      "cell_type": "code",
      "source": [
        "allscore=[]\n",
        "for i in range(0,11) :\n",
        "  for j in range(0,11) :\n",
        "    for k in range(0,11) :\n",
        "      for n in range(0,11) :\n",
        "        if(i+j+k+n==10) :\n",
        "          ensemble = pred_gb*(i/10) + pred_xgb*(j/10)+ pred_lgb*(k/10)+pred_cat*(n/10)\n",
        "          sample_submission = pd.read_csv(DATA_PATH +'sample_submission.csv')\n",
        "          indexlist = test_y.index\n",
        "          submit = sample_submission.loc[indexlist]\n",
        "          for idx, col in enumerate(submit.columns):\n",
        "            if col=='ID':\n",
        "              continue\n",
        "            submit[col] = ensemble[:,idx-1]\n",
        "          #print('Done.')\n",
        "          \n",
        "          list_yname = ['Y_01']     #Y_01부터 Y_14까지 수정 후 한 번 씩 실행\n",
        "          all_nrmse = []\n",
        "          for l in range(0, 1) :\n",
        "            rmse = mean_squared_error(test_y[list_yname[l]], submit[list_yname[l]], squared=False)\n",
        "            nrmse = rmse/np.mean(np.abs(test_y[list_yname[l]]))\n",
        "            all_nrmse.append(nrmse)\n",
        "          score = 1.2 * np.sum(all_nrmse[:8]) + 1.0 * np.sum(all_nrmse[8:14])\n",
        "          print(i)\n",
        "          print(j)\n",
        "          print(k)\n",
        "          print(n)\n",
        "          print(score)\n",
        "          allscore.append(score)\n",
        "        else :\n",
        "          continue\n",
        "\n",
        "print(min(allscore))        #출력된 y 피처 별 최소값에 해당하는 앙상블 비율 x:x:x:x 찾아서 따로 기록해야 함       "
      ],
      "metadata": {
        "id": "lLpLKtZSpe-7"
      },
      "execution_count": null,
      "outputs": []
    },
    {
      "cell_type": "code",
      "source": [],
      "metadata": {
        "id": "k2AEH26bphSj"
      },
      "execution_count": null,
      "outputs": []
    }
  ]
}