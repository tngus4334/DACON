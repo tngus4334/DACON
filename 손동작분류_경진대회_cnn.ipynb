{
  "nbformat": 4,
  "nbformat_minor": 0,
  "metadata": {
    "colab": {
      "name": "손동작분류_경진대회_cnn.ipynb",
      "provenance": [],
      "mount_file_id": "1RdZyfiMvHwcUNRb-HooDE3sgyVq0O89Y",
      "authorship_tag": "ABX9TyN/O835efC16fWzgMLvJWdm"
    },
    "kernelspec": {
      "name": "python3",
      "display_name": "Python 3"
    },
    "language_info": {
      "name": "python"
    }
  },
  "cells": [
    {
      "cell_type": "code",
      "execution_count": 1,
      "metadata": {
        "id": "lla4eZ-8QxiL"
      },
      "outputs": [],
      "source": [
        "import pandas as pd\n",
        "import numpy as np\n",
        "import warnings\n",
        "warnings.filterwarnings('ignore')\n",
        "%matplotlib inline\n",
        "\n",
        "from sklearn.model_selection import StratifiedKFold\n",
        "from sklearn.metrics import accuracy_score\n",
        "from sklearn.preprocessing import OneHotEncoder\n",
        "\n",
        "from tensorflow.keras.layers import *\n",
        "from tensorflow.keras.models import *\n",
        "from tensorflow.keras.optimizers import *\n",
        "from tensorflow.keras.callbacks import *"
      ]
    },
    {
      "cell_type": "code",
      "source": [
        "train = pd.read_csv('train.csv')\n",
        "test = pd.read_csv('test.csv')\n",
        "submission = pd.read_csv('sample_submission.csv')"
      ],
      "metadata": {
        "id": "st5RvIK4R5rM"
      },
      "execution_count": 8,
      "outputs": []
    },
    {
      "cell_type": "code",
      "source": [
        "X = train.iloc[:, 1:-1]\n",
        "target = test.iloc[:, 1:]\n",
        "\n",
        "X = np.array(X).reshape(-1, 8, 4, 1)\n",
        "target = np.array(target).reshape(-1, 8, 4, 1)\n",
        "\n",
        "ohe = OneHotEncoder(sparse = False)\n",
        "y = ohe.fit_transform(train[['target']])\n",
        "\n",
        "skf = StratifiedKFold(n_splits = 10, random_state = 1, shuffle = True)"
      ],
      "metadata": {
        "id": "vJlRCyxXR5ts"
      },
      "execution_count": 3,
      "outputs": []
    },
    {
      "cell_type": "code",
      "source": [
        "es = EarlyStopping(monitor = 'val_acc', patience = 50, mode = 'max', verbose = 0)\n",
        "rlrp = ReduceLROnPlateau(monitor='val_acc', factor=0.2, patience=5, mode='max')"
      ],
      "metadata": {
        "id": "SVgDunOwSBPZ"
      },
      "execution_count": 4,
      "outputs": []
    },
    {
      "cell_type": "code",
      "source": [
        "cnn_acc = []\n",
        "cnn_pred = np.zeros((target.shape[0], 4))\n",
        "for i, (tr_idx, val_idx) in enumerate(skf.split(X, train.target)) :\n",
        "    print(f'{i + 1} Fold Training.....')\n",
        "    tr_x, tr_y = X[tr_idx], y[tr_idx]\n",
        "    val_x, val_y = X[val_idx], y[val_idx]\n",
        "    \n",
        "    ### CNN 모델\n",
        "    cnn = Sequential()\n",
        "    cnn.add(Conv2D(64, (2, 4), padding = \"same\", activation = 'elu', input_shape = (8, 4, 1))) # 정사각필터보다 직사각필터가 좋은 성능\n",
        "    cnn.add(BatchNormalization())\n",
        "    \n",
        "    cnn.add(Conv2D(32, (2, 4), padding = \"same\", activation = 'elu'))\n",
        "    cnn.add(BatchNormalization())\n",
        "    \n",
        "    cnn.add(Conv2D(16, (3, 4), padding = \"same\", activation = 'elu'))\n",
        "    cnn.add(BatchNormalization())\n",
        "    \n",
        "    cnn.add(Conv2D(32, (3, 4), padding = \"same\", activation = 'elu'))\n",
        "    \n",
        "    cnn.add(BatchNormalization())\n",
        "    cnn.add(GlobalAveragePooling2D())\n",
        "    \n",
        "    cnn.add(Dense(16, activation = 'relu'))\n",
        "    cnn.add(Dense(4, activation = 'softmax'))\n",
        "\n",
        "    ### ModelCheckPoint Fold마다 갱신\n",
        "    mc = ModelCheckpoint(f'model_{i + 1}.h5', save_best_only = True, monitor = 'val_acc', mode = 'max', verbose = 0)\n",
        "   \n",
        "    ### 모델 compile\n",
        "    cnn.compile(optimizer = RMSprop(lr=0.04), loss = 'categorical_crossentropy', metrics = ['acc'])\n",
        "\n",
        "    cnn.fit(tr_x, tr_y, validation_data = (val_x, val_y), epochs = 100, batch_size = 32, callbacks = [es, mc, rlrp], verbose = 0)\n",
        "\n",
        "    ### 최고 성능 기록 모델 Load\n",
        "    best = load_model(f'model_{i + 1}.h5')\n",
        "    ### validation predict\n",
        "    val_pred = best.predict(val_x)\n",
        "    ### 확률값 중 최대값을 클래스로 매칭\n",
        "    val_cls = np.argmax(val_pred, axis = 1)\n",
        "    ### Fold별 정확도 산출\n",
        "    fold_cnn_acc = accuracy_score(np.argmax(val_y, axis = 1), val_cls)\n",
        "    cnn_acc.append(fold_cnn_acc)\n",
        "    print(f'{i + 1} Fold ACC of CNN = {fold_cnn_acc}\\n')\n",
        "\n",
        "    ### Fold별 test 데이터에 대한 예측값 생성 및 앙상블\n",
        "    fold_pred = best.predict(target) / skf.n_splits\n",
        "    cnn_pred += fold_pred"
      ],
      "metadata": {
        "colab": {
          "base_uri": "https://localhost:8080/"
        },
        "id": "K19QFe7qSSeE",
        "outputId": "b58f5fb6-d841-4388-e4cf-73fa6bacc9a5"
      },
      "execution_count": 5,
      "outputs": [
        {
          "output_type": "stream",
          "name": "stdout",
          "text": [
            "1 Fold Training.....\n",
            "1 Fold ACC of CNN = 0.8547008547008547\n",
            "\n",
            "2 Fold Training.....\n",
            "2 Fold ACC of CNN = 0.905982905982906\n",
            "\n",
            "3 Fold Training.....\n",
            "3 Fold ACC of CNN = 0.9188034188034188\n",
            "\n",
            "4 Fold Training.....\n",
            "4 Fold ACC of CNN = 0.8803418803418803\n",
            "\n",
            "5 Fold Training.....\n",
            "5 Fold ACC of CNN = 0.8803418803418803\n",
            "\n",
            "6 Fold Training.....\n",
            "6 Fold ACC of CNN = 0.8884120171673819\n",
            "\n",
            "7 Fold Training.....\n",
            "7 Fold ACC of CNN = 0.8841201716738197\n",
            "\n",
            "8 Fold Training.....\n",
            "8 Fold ACC of CNN = 0.8798283261802575\n",
            "\n",
            "9 Fold Training.....\n",
            "9 Fold ACC of CNN = 0.9098712446351931\n",
            "\n",
            "10 Fold Training.....\n",
            "10 Fold ACC of CNN = 0.8497854077253219\n",
            "\n"
          ]
        }
      ]
    },
    {
      "cell_type": "code",
      "source": [
        "np.mean(cnn_acc)"
      ],
      "metadata": {
        "colab": {
          "base_uri": "https://localhost:8080/"
        },
        "id": "9V5HM0opSUFO",
        "outputId": "edd9c02d-2ef2-4f00-b5d0-db5b2156045f"
      },
      "execution_count": 6,
      "outputs": [
        {
          "output_type": "execute_result",
          "data": {
            "text/plain": [
              "0.8852188107552914"
            ]
          },
          "metadata": {},
          "execution_count": 6
        }
      ]
    },
    {
      "cell_type": "code",
      "source": [
        "submission['target'] = np.argmax(cnn_pred, axis = 1)\n",
        "\n",
        "submission\n",
        "\n",
        "submission.to_csv('submission.csv',index=False)"
      ],
      "metadata": {
        "id": "clFYFyplSVla"
      },
      "execution_count": 10,
      "outputs": []
    }
  ]
}