{
  "nbformat": 4,
  "nbformat_minor": 0,
  "metadata": {
    "colab": {
      "provenance": [],
      "collapsed_sections": [
        "x8mtCwNej86W",
        "6bYTQsS7jSob",
        "Ul3CxmOriEpa",
        "iUovN0N7hgh4",
        "86lx3eaUs9gg"
      ],
      "authorship_tag": "ABX9TyOQiDTAiMpMKDJLf7EuOrnM",
      "include_colab_link": true
    },
    "kernelspec": {
      "name": "python3",
      "display_name": "Python 3"
    },
    "language_info": {
      "name": "python"
    }
  },
  "cells": [
    {
      "cell_type": "markdown",
      "metadata": {
        "id": "view-in-github",
        "colab_type": "text"
      },
      "source": [
        "<a href=\"https://colab.research.google.com/github/tngus4334/LG-Aimers/blob/main/SUBMISSION_%EC%B5%9C%EC%A2%85%EC%A0%9C%EC%B6%9C%EB%B3%B8.ipynb\" target=\"_parent\"><img src=\"https://colab.research.google.com/assets/colab-badge.svg\" alt=\"Open In Colab\"/></a>"
      ]
    },
    {
      "cell_type": "code",
      "execution_count": null,
      "metadata": {
        "colab": {
          "base_uri": "https://localhost:8080/"
        },
        "id": "R-GgbmrnnqHf",
        "outputId": "3e5f5736-1ade-4deb-8e39-09c9a681c4b9"
      },
      "outputs": [
        {
          "output_type": "stream",
          "name": "stdout",
          "text": [
            "Drive already mounted at /content/drive; to attempt to forcibly remount, call drive.mount(\"/content/drive\", force_remount=True).\n"
          ]
        }
      ],
      "source": [
        "from google.colab import drive\n",
        "drive.mount('/content/drive')"
      ]
    },
    {
      "cell_type": "code",
      "source": [
        "! pip install catboost"
      ],
      "metadata": {
        "colab": {
          "base_uri": "https://localhost:8080/"
        },
        "id": "A6NuM0A00KqW",
        "outputId": "32c66204-2e22-442c-ccfc-ed7af3d3487e"
      },
      "execution_count": null,
      "outputs": [
        {
          "output_type": "stream",
          "name": "stdout",
          "text": [
            "Looking in indexes: https://pypi.org/simple, https://us-python.pkg.dev/colab-wheels/public/simple/\n",
            "Requirement already satisfied: catboost in /usr/local/lib/python3.7/dist-packages (1.0.6)\n",
            "Requirement already satisfied: plotly in /usr/local/lib/python3.7/dist-packages (from catboost) (5.5.0)\n",
            "Requirement already satisfied: numpy>=1.16.0 in /usr/local/lib/python3.7/dist-packages (from catboost) (1.21.6)\n",
            "Requirement already satisfied: scipy in /usr/local/lib/python3.7/dist-packages (from catboost) (1.7.3)\n",
            "Requirement already satisfied: pandas>=0.24.0 in /usr/local/lib/python3.7/dist-packages (from catboost) (1.3.5)\n",
            "Requirement already satisfied: matplotlib in /usr/local/lib/python3.7/dist-packages (from catboost) (3.2.2)\n",
            "Requirement already satisfied: six in /usr/local/lib/python3.7/dist-packages (from catboost) (1.15.0)\n",
            "Requirement already satisfied: graphviz in /usr/local/lib/python3.7/dist-packages (from catboost) (0.10.1)\n",
            "Requirement already satisfied: python-dateutil>=2.7.3 in /usr/local/lib/python3.7/dist-packages (from pandas>=0.24.0->catboost) (2.8.2)\n",
            "Requirement already satisfied: pytz>=2017.3 in /usr/local/lib/python3.7/dist-packages (from pandas>=0.24.0->catboost) (2022.2.1)\n",
            "Requirement already satisfied: pyparsing!=2.0.4,!=2.1.2,!=2.1.6,>=2.0.1 in /usr/local/lib/python3.7/dist-packages (from matplotlib->catboost) (3.0.9)\n",
            "Requirement already satisfied: kiwisolver>=1.0.1 in /usr/local/lib/python3.7/dist-packages (from matplotlib->catboost) (1.4.4)\n",
            "Requirement already satisfied: cycler>=0.10 in /usr/local/lib/python3.7/dist-packages (from matplotlib->catboost) (0.11.0)\n",
            "Requirement already satisfied: typing-extensions in /usr/local/lib/python3.7/dist-packages (from kiwisolver>=1.0.1->matplotlib->catboost) (4.1.1)\n",
            "Requirement already satisfied: tenacity>=6.2.0 in /usr/local/lib/python3.7/dist-packages (from plotly->catboost) (8.0.1)\n"
          ]
        }
      ]
    },
    {
      "cell_type": "code",
      "execution_count": null,
      "metadata": {
        "id": "Uksgs6FMntUV"
      },
      "outputs": [],
      "source": [
        "import pandas as pd\n",
        "import numpy as np\n",
        "import seaborn as sns\n",
        "\n",
        "import warnings\n",
        "warnings.filterwarnings('ignore')\n",
        "\n",
        "import matplotlib.pyplot as plt\n",
        "%matplotlib inline\n",
        "\n",
        "\n",
        "import time\n",
        "import warnings ; warnings.filterwarnings('ignore')\n",
        "from tqdm import tqdm\n",
        "\n",
        "from sklearn.preprocessing import Normalizer\n",
        "from sklearn.multioutput import MultiOutputRegressor\n",
        "from scipy.stats import norm\n",
        "\n",
        "from sklearn.model_selection import cross_val_score, train_test_split, cross_val_predict\n",
        "from sklearn.metrics import mean_absolute_error\n",
        "import random\n",
        "#import shap\n",
        "#import optuna\n",
        "\n",
        "from lightgbm import LGBMRegressor\n",
        "from catboost import CatBoostRegressor\n",
        "from sklearn.tree import ExtraTreeRegressor\n",
        "\n",
        "import random\n",
        "import os\n",
        "\n",
        "import xgboost as xgb\n",
        "\n",
        "from sklearn.ensemble import RandomForestRegressor, GradientBoostingRegressor\n",
        "\n",
        "from xgboost import XGBRegressor\n",
        "from lightgbm import LGBMRegressor\n",
        "\n",
        "import xgboost as xgb\n",
        "import lightgbm as lgb\n",
        "\n",
        "from sklearn.ensemble import BaggingRegressor"
      ]
    },
    {
      "cell_type": "markdown",
      "source": [
        "### 전처리"
      ],
      "metadata": {
        "id": "BtG0Wq6r8lss"
      }
    },
    {
      "cell_type": "code",
      "execution_count": null,
      "metadata": {
        "id": "xuzugl4oxEca"
      },
      "outputs": [],
      "source": [
        "pd.set_option('display.max_columns', 100)"
      ]
    },
    {
      "cell_type": "code",
      "execution_count": null,
      "metadata": {
        "id": "i_ju_w8epOCG"
      },
      "outputs": [],
      "source": [
        "train = pd.read_csv('/content/drive/MyDrive/데이콘/자율주행센서/train.csv')\n",
        "test = pd.read_csv('/content/drive/MyDrive/데이콘/자율주행센서/test.csv')\n",
        "sample_submission = pd.read_csv('/content/drive/MyDrive/데이콘/자율주행센서/sample_submission.csv')"
      ]
    },
    {
      "cell_type": "code",
      "execution_count": null,
      "metadata": {
        "id": "g8Rn7mmzpvbT"
      },
      "outputs": [],
      "source": [
        "train.drop(['X_02','X_04','X_10','X_11','X_23','X_47','X_48'],axis=1,inplace=True)\n",
        "test.drop(['X_02','X_04','X_10','X_11','X_23','X_47','X_48'],axis=1,inplace=True)"
      ]
    },
    {
      "cell_type": "markdown",
      "metadata": {
        "id": "KIhZRVUgu1HM"
      },
      "source": [
        "### train 전처리"
      ]
    },
    {
      "cell_type": "code",
      "execution_count": null,
      "metadata": {
        "id": "0xGJNscXpdNv"
      },
      "outputs": [],
      "source": [
        "# 스크류 삽입깊이 단차\n",
        "train['max-min_X'] = train[['X_19','X_20','X_21','X_22']].max(axis=1) - train[['X_19','X_20','X_21','X_22']].min(axis=1)"
      ]
    },
    {
      "cell_type": "code",
      "source": [
        "# 하우징 기울기\n",
        "train['slope_X'] = train[['X_38','X_39','X_40']].max(axis = 1) - train[['X_38','X_39','X_40']].min(axis = 1)"
      ],
      "metadata": {
        "id": "sv7Ze3RevEyA"
      },
      "execution_count": null,
      "outputs": []
    },
    {
      "cell_type": "code",
      "source": [
        "# 납량차이\n",
        "train['SMT_X'] = train[['X_50','X_51','X_52','X_53','X_54','X_55','X_56']].max(axis = 1) - train[['X_50','X_51','X_52','X_53','X_54','X_55','X_56']].min(axis = 1)"
      ],
      "metadata": {
        "id": "jZwJ5Qi8wNrf"
      },
      "execution_count": null,
      "outputs": []
    },
    {
      "cell_type": "code",
      "execution_count": null,
      "metadata": {
        "id": "KM1PbF0iqOyZ"
      },
      "outputs": [],
      "source": [
        "# 비슷한 종류들끼리 평균\n",
        "train['X1~X6'] =  train[['X_01','X_06']].mean(axis=1)\n",
        "train['X14~X18'] = train[['X_14','X_15','X_16','X_17','X_18']].mean(axis=1)\n",
        "train['X19~X22'] = train[['X_19','X_20','X_21','X_22']].mean(axis=1)\n",
        "train['X24~X29'] = train[['X_24','X_25','X_26','X_27','X_28','X_29']].mean(axis=1)\n",
        "train['X30~X32'] = train[['X_30','X_32']].mean(axis=1)\n",
        "train['X31~X33'] = train[['X_31','X_33']].mean(axis=1)\n",
        "train['X38~X40'] = train[['X_38','X_39','X_40']].mean(axis=1)\n",
        "train['X41~X45'] = train[['X_41','X_42','X_43','X_44','X_45']].mean(axis=1)\n",
        "train['X50~X56'] = train[['X_50','X_51','X_52','X_53','X_54','X_55','X_56']].mean(axis=1)"
      ]
    },
    {
      "cell_type": "code",
      "execution_count": null,
      "metadata": {
        "id": "uy4kQQZ4p6T3"
      },
      "outputs": [],
      "source": [
        "# 단차\n",
        "train['con1_X'] = train['X_12'] - train['X_24']\n",
        "train['con2_X'] = train['X_12'] - train['X_25']\n",
        "train['con3_X'] = train['X_12'] - train['X_26']\n",
        "train['con4_X'] = train['X_12'] - train['X_27']\n",
        "train['con5_X'] = train['X_12'] - train['X_28']\n",
        "train['con6_X'] = train['X_12'] - train['X_29']"
      ]
    },
    {
      "cell_type": "code",
      "execution_count": null,
      "metadata": {
        "id": "dDeAu4yVpdQR"
      },
      "outputs": [],
      "source": [
        "# 중복으로 넣기\n",
        "train['nd_area_X1'] = train['X_08']*train['X_07']/train['X_03']\n",
        "train['th_area_X1'] = train['X_09']*train['X_07']/train['X_03']\n",
        "\n",
        "train['nd_area_X2'] = train['X_08']*train['X_07']/train['X_03']\n",
        "train['th_area_X2'] = train['X_09']*train['X_07']/train['X_03']"
      ]
    },
    {
      "cell_type": "code",
      "execution_count": null,
      "metadata": {
        "id": "xvqnRMN1jIeS"
      },
      "outputs": [],
      "source": [
        "train = train.replace(train['X_24'].min(), train['X_24'].mean())"
      ]
    },
    {
      "cell_type": "code",
      "execution_count": null,
      "metadata": {
        "id": "x0D53sdwroaM"
      },
      "outputs": [],
      "source": [
        "# 무게 / 면적\n",
        "train['X3/X7'] = train['X_03']/ train['X_07']\n",
        "\n",
        "# 스크류 깊이 평균\n",
        "train['X19X30'] = train[['X_19','X_30']].mean(axis=1)\n",
        "train['X20X31'] = train[['X_20','X_31']].mean(axis=1)\n",
        "train['X21X32'] = train[['X_21','X_32']].mean(axis=1)\n",
        "train['X22X33'] = train[['X_22','X_33']].mean(axis=1)"
      ]
    },
    {
      "cell_type": "code",
      "execution_count": null,
      "metadata": {
        "id": "Rubv_7Varoc4"
      },
      "outputs": [],
      "source": [
        "# 표준편차\n",
        "train['X14~X18_std'] = train[['X_14', 'X_15', 'X_16', 'X_17', 'X_18']].std(axis=1)\n",
        "train['X19~X22_std'] = train[['X_19','X_20','X_21','X_22']].std(axis=1)\n",
        "train['X24~X29_std'] =  train[['X_24', 'X_25', 'X_26','X_27','X_28','X_29']].std(axis=1)\n",
        "\n",
        "train['X38~X40_std'] = train[['X_38','X_39','X_40']].std(axis=1)\n",
        "\n",
        "train['X41~X45_std'] = train[['X_41','X_42', 'X_43', 'X_44', 'X_45']].std(axis=1)\n",
        "train['X50~X56_std'] = train[['X_50','X_51', 'X_52', 'X_53', 'X_54', 'X_55', 'X_56']].std(axis=1)"
      ]
    },
    {
      "cell_type": "code",
      "execution_count": null,
      "metadata": {
        "id": "6zx633Knr5-H"
      },
      "outputs": [],
      "source": [
        "# 중앙값\n",
        "train['X14~X18_mid'] = train[['X_14', 'X_15', 'X_16', 'X_17', 'X_18']].median(axis=1)\n",
        "train['X19~X22_mid'] = train[['X_19','X_20','X_21','X_22']].median(axis=1)\n",
        "train['X24~X29_mid'] =  train[['X_24', 'X_25', 'X_26','X_27','X_28','X_29']].median(axis=1)\n",
        "\n",
        "train['X38~X40_mid'] = train[['X_38','X_39','X_40']].median(axis=1)\n",
        "\n",
        "train['X41~X45_mid'] = train[['X_41','X_42', 'X_43', 'X_44', 'X_45']].median(axis=1)\n",
        "train['X50~X56_mid'] = train[['X_50','X_51', 'X_52', 'X_53', 'X_54', 'X_55', 'X_56']].median(axis=1)"
      ]
    },
    {
      "cell_type": "code",
      "execution_count": null,
      "metadata": {
        "id": "xhVtJknFuj5P"
      },
      "outputs": [],
      "source": [
        "# 튀는값 평균으로 대치\n",
        "mean_X_30 = train[(train['X_30']<1.7) & (train['X_30']>1)]['X_30'].mean()\n",
        "mean_X_31 = train[(train['X_31']<5)]['X_31'].mean()\n",
        "mean_X_32 = train[(train['X_32']<1.7) & (train['X_32']>1)]['X_32'].mean()\n",
        "mean_X_33 = train[(train['X_31']<5)]['X_31'].mean()\n",
        "mean_X_38 = train[(train['X_33']<0.7)]['X_33'].mean()"
      ]
    },
    {
      "cell_type": "code",
      "execution_count": null,
      "metadata": {
        "id": "yB8REUEUuj7y"
      },
      "outputs": [],
      "source": [
        "train['X_30'] = train['X_30'].apply(lambda x : mean_X_30 if x >1.7 or x < 1 else x)\n",
        "train['X_31'] = train['X_31'].apply(lambda x : mean_X_31 if x > 5 else x)\n",
        "train['X_32'] = train['X_32'].apply(lambda x : mean_X_32 if x >1.7 or x < 1 else x)\n",
        "train['X_33'] = train['X_33'].apply(lambda x : mean_X_33 if x > 5 else x)\n",
        "train['X_38'] = train['X_38'].apply(lambda x : mean_X_38 if x > 0.7 else x)"
      ]
    },
    {
      "cell_type": "code",
      "source": [
        "# 공차\n",
        "train['gongcha_1_X'] = train[['X_38','X_39','X_40']].sum(axis = 1)\n",
        "train['gongcha_2_X'] = train[['X_24','X_25','X_26','X_27','X_28','X_29']].sum(axis = 1)"
      ],
      "metadata": {
        "id": "B7Cvldaf-MDd"
      },
      "execution_count": null,
      "outputs": []
    },
    {
      "cell_type": "code",
      "source": [
        "train['all_sum_X'] = train.sum(axis=1)\n",
        "train['all_mean_X'] = train.mean(axis=1)"
      ],
      "metadata": {
        "id": "xXCalXt28Ke-"
      },
      "execution_count": null,
      "outputs": []
    },
    {
      "cell_type": "markdown",
      "metadata": {
        "id": "5WziTlY2u3fD"
      },
      "source": [
        "### test 전처리"
      ]
    },
    {
      "cell_type": "code",
      "source": [
        "test['max-min_X'] = test[['X_19','X_20','X_21','X_22']].max(axis=1) - test[['X_19','X_20','X_21','X_22']].min(axis=1)"
      ],
      "metadata": {
        "id": "uXP7PbmD1u27"
      },
      "execution_count": null,
      "outputs": []
    },
    {
      "cell_type": "code",
      "source": [
        "# 하우징 기울기\n",
        "test['slope_X'] = test[['X_38','X_39','X_40']].max(axis = 1) - test[['X_38','X_39','X_40']].min(axis = 1)"
      ],
      "metadata": {
        "id": "3mxN12MZ1vK5"
      },
      "execution_count": null,
      "outputs": []
    },
    {
      "cell_type": "code",
      "source": [
        "# 납량차이\n",
        "test['SMT_X'] = test[['X_50','X_51','X_52','X_53','X_54','X_55','X_56']].max(axis = 1) - test[['X_50','X_51','X_52','X_53','X_54','X_55','X_56']].min(axis = 1)"
      ],
      "metadata": {
        "id": "FBAuS-C31vK5"
      },
      "execution_count": null,
      "outputs": []
    },
    {
      "cell_type": "code",
      "execution_count": null,
      "metadata": {
        "id": "h5C8l3m-uj-C"
      },
      "outputs": [],
      "source": [
        "test['X1~X6'] =  test[['X_01','X_06']].mean(axis=1)\n",
        "test['X14~X18'] = test[['X_14','X_15','X_16','X_17','X_18']].mean(axis=1)\n",
        "test['X19~X22'] = test[['X_19','X_20','X_21','X_22']].mean(axis=1)\n",
        "test['X24~X29'] = test[['X_24','X_25','X_26','X_27','X_28','X_29']].mean(axis=1)\n",
        "test['X30~X32'] = test[['X_30','X_32']].mean(axis=1)\n",
        "test['X31~X33'] = test[['X_31','X_33']].mean(axis=1)\n",
        "test['X38~X40'] = test[['X_38','X_39','X_40']].mean(axis=1)\n",
        "test['X41~X45'] = test[['X_41','X_42','X_43','X_44','X_45']].mean(axis=1)\n",
        "test['X50~X56'] = test[['X_50','X_51','X_52','X_53','X_54','X_55','X_56']].mean(axis=1)"
      ]
    },
    {
      "cell_type": "code",
      "execution_count": null,
      "metadata": {
        "id": "P_bnjLlKucY9"
      },
      "outputs": [],
      "source": [
        "test['con1_X'] = test['X_12'] - test['X_24']\n",
        "test['con2_X'] = test['X_12'] - test['X_25']\n",
        "test['con3_X'] = test['X_12'] - test['X_26']\n",
        "test['con4_X'] = test['X_12'] - test['X_27']\n",
        "test['con5_X'] = test['X_12'] - test['X_28']\n",
        "test['con6_X'] = test['X_12'] - test['X_29']"
      ]
    },
    {
      "cell_type": "code",
      "execution_count": null,
      "metadata": {
        "id": "vF-PXIcYvKZy"
      },
      "outputs": [],
      "source": [
        "test['nd_area_X1'] = test['X_08']*test['X_07']/test['X_03']\n",
        "test['th_area_X1'] = test['X_09']*test['X_07']/test['X_03']\n",
        "\n",
        "test['nd_area_X2'] = test['X_08']*test['X_07']/test['X_03']\n",
        "test['th_area_X2'] = test['X_09']*test['X_07']/test['X_03']"
      ]
    },
    {
      "cell_type": "code",
      "execution_count": null,
      "metadata": {
        "id": "IawDsVEjvKZ1"
      },
      "outputs": [],
      "source": [
        "# 무게 / 면적\n",
        "test['X3/X7'] = test['X_03']/ test['X_07']\n",
        "\n",
        "# 스크류 깊이 평균\n",
        "test['X19X30'] = test[['X_19','X_30']].mean(axis=1)\n",
        "test['X20X31'] = test[['X_20','X_31']].mean(axis=1)\n",
        "test['X21X32'] = test[['X_21','X_32']].mean(axis=1)\n",
        "test['X22X33'] = test[['X_22','X_33']].mean(axis=1)"
      ]
    },
    {
      "cell_type": "code",
      "execution_count": null,
      "metadata": {
        "id": "6njO5IuivKZ2"
      },
      "outputs": [],
      "source": [
        "# 표준편차\n",
        "test['X14~X18_std'] = test[['X_14', 'X_15', 'X_16', 'X_17', 'X_18']].std(axis=1)\n",
        "test['X19~X22_std'] = test[['X_19','X_20','X_21','X_22']].std(axis=1)\n",
        "test['X24~X29_std'] =  test[['X_24', 'X_25', 'X_26','X_27','X_28','X_29']].std(axis=1)\n",
        "\n",
        "test['X38~X40_std'] = test[['X_38','X_39','X_40']].std(axis=1)\n",
        "\n",
        "test['X41~X45_std'] = test[['X_41','X_42', 'X_43', 'X_44', 'X_45']].std(axis=1)\n",
        "test['X50~X56_std'] = test[['X_50','X_51', 'X_52', 'X_53', 'X_54', 'X_55', 'X_56']].std(axis=1)"
      ]
    },
    {
      "cell_type": "code",
      "execution_count": null,
      "metadata": {
        "id": "oPBwMacK5WJa"
      },
      "outputs": [],
      "source": [
        "test['X14~X18_mid'] = test[['X_14', 'X_15', 'X_16', 'X_17', 'X_18']].median(axis=1)\n",
        "test['X19~X22_mid'] = test[['X_19','X_20','X_21','X_22']].median(axis=1)\n",
        "test['X24~X29_mid'] =  test[['X_24', 'X_25', 'X_26','X_27','X_28','X_29']].median(axis=1)\n",
        "\n",
        "test['X38~X40_mid'] = test[['X_38','X_39','X_40']].median(axis=1)\n",
        "\n",
        "test['X41~X45_mid'] = test[['X_41','X_42', 'X_43', 'X_44', 'X_45']].median(axis=1)\n",
        "test['X50~X56_mid'] = test[['X_50','X_51', 'X_52', 'X_53', 'X_54', 'X_55', 'X_56']].median(axis=1)"
      ]
    },
    {
      "cell_type": "code",
      "source": [
        "test['gongcha_1_X'] = test[['X_38','X_39','X_40']].sum(axis = 1)\n",
        "test['gongcha_2_X'] = test[['X_24','X_25','X_26','X_27','X_28','X_29']].sum(axis = 1)"
      ],
      "metadata": {
        "id": "LSjo90kQ-hS1"
      },
      "execution_count": null,
      "outputs": []
    },
    {
      "cell_type": "code",
      "source": [
        "test['all_sum_X'] = test.sum(axis=1)\n",
        "test['all_mean_X'] = test.mean(axis=1)"
      ],
      "metadata": {
        "id": "_fiypre88fhq"
      },
      "execution_count": null,
      "outputs": []
    },
    {
      "cell_type": "code",
      "execution_count": null,
      "metadata": {
        "id": "F_wqnaDXva_S"
      },
      "outputs": [],
      "source": [
        "train_x = train.filter(regex='X') # Input : X Featrue\n",
        "train_y = train.filter(regex='Y') # Output : Y Feature\n",
        "\n",
        "test_x = test.drop(columns=['ID'])"
      ]
    },
    {
      "cell_type": "code",
      "source": [
        "print(train_x.shape)\n",
        "print(train_y.shape)\n",
        "print(test_x.shape)"
      ],
      "metadata": {
        "colab": {
          "base_uri": "https://localhost:8080/"
        },
        "id": "cl5ZjP5Y8iKn",
        "outputId": "9baabcc3-8adc-4b65-8e4e-6b8399ec54f8"
      },
      "execution_count": null,
      "outputs": [
        {
          "output_type": "stream",
          "name": "stdout",
          "text": [
            "(39607, 92)\n",
            "(39607, 14)\n",
            "(39608, 92)\n"
          ]
        }
      ]
    },
    {
      "cell_type": "code",
      "source": [
        "from sklearn.metrics import mean_squared_error\n",
        "\n",
        "def lg_nrmse(gt, preds):\n",
        "    # 각 Y Feature별 NRMSE 총합\n",
        "    # Y_01 ~ Y_08 까지 20% 가중치 부여\n",
        "    all_nrmse = []\n",
        "    for idx in range(0,14): # ignore 'ID'\n",
        "        rmse = mean_squared_error(gt[:,idx], preds[:,idx], squared=False)\n",
        "        nrmse = rmse/np.mean(np.abs(gt[:,idx]))\n",
        "        all_nrmse.append(nrmse)\n",
        "    score = 1.2 * np.sum(all_nrmse[:8]) + 1.0 * np.sum(all_nrmse[8:15])\n",
        "    return score"
      ],
      "metadata": {
        "id": "qqQ22VCed9UH"
      },
      "execution_count": null,
      "outputs": []
    },
    {
      "cell_type": "markdown",
      "source": [
        "## Y_01"
      ],
      "metadata": {
        "id": "tzxvpc2ExbmV"
      }
    },
    {
      "cell_type": "code",
      "source": [
        "lightgbm_Y_01 = lgb.LGBMRegressor(bagging_fraction=0.5110153478713623, bagging_freq=7,\n",
        "              feature_fraction=0.44859576444673155,\n",
        "              learning_rate=0.009309864945773093, min_child_samples=25,\n",
        "              min_split_gain=0.27023270779753594, n_estimators=285,\n",
        "              num_leaves=169, random_state=42, reg_alpha=1.0144064465268647e-08,\n",
        "              reg_lambda=2.4670673097820773e-09).fit(train_x,train_y['Y_01'])"
      ],
      "metadata": {
        "id": "-XWGH27nxbmV"
      },
      "execution_count": null,
      "outputs": []
    },
    {
      "cell_type": "code",
      "source": [
        "xgb_Y_01 =  BaggingRegressor(base_estimator=XGBRegressor(base_score=0.5, booster='gbtree',\n",
        "                                             colsample_bylevel=1,\n",
        "                                             colsample_bynode=1,\n",
        "                                             colsample_bytree=0.5116487103581219,\n",
        "                                             gamma=0,\n",
        "                                             importance_type='gain',\n",
        "                                             interaction_constraints='',\n",
        "                                             learning_rate=0.07977498757924376,\n",
        "                                             max_delta_step=0, max_depth=3,\n",
        "                                             min_child_weight=1,\n",
        "                                             n_estimators=239, n_jobs=-1,\n",
        "                                             num_parallel_tree=1,\n",
        "                                             random_state=42,\n",
        "                                             reg_alpha=1.296241788406927e-06,\n",
        "                                             reg_lambda=2.1341766607100183,\n",
        "                                             scale_pos_weight=31.042164955168403,\n",
        "                                             subsample=0.7175531571705309,\n",
        "                                             validate_parameters=1,\n",
        "                                             verbosity=0), n_estimators=30, n_jobs=1, random_state=42).fit(train_x,train_y['Y_01'])"
      ],
      "metadata": {
        "id": "MnaZCZAZxbmV"
      },
      "execution_count": null,
      "outputs": []
    },
    {
      "cell_type": "code",
      "source": [
        "gbr_Y_01 =GradientBoostingRegressor(learning_rate=0.012688323956682181, max_depth=9,\n",
        "                          max_features=0.5317748828007712,\n",
        "                          min_impurity_decrease=1.2229206693892366e-09,\n",
        "                          min_samples_leaf=2, min_samples_split=4,\n",
        "                          n_estimators=238, random_state=42,\n",
        "                          subsample=0.916882961309737).fit(train_x,train_y['Y_01'])"
      ],
      "metadata": {
        "id": "U4oc-KZZxbmW"
      },
      "execution_count": null,
      "outputs": []
    },
    {
      "cell_type": "code",
      "source": [
        "catboost_Y_01 = BaggingRegressor(base_estimator=CatBoostRegressor(depth= 8,\n",
        "        l2_leaf_reg= 14,\n",
        "        loss_function= 'RMSE',\n",
        "        border_count= 254,\n",
        "        verbose= False,\n",
        "        random_strength= 0.5536883616570151,\n",
        "        task_type= 'CPU',\n",
        "        n_estimators= 208,\n",
        "        random_state= 42,\n",
        "        eta= 0.0474004231211728),n_estimators=30, n_jobs=1, random_state=42).fit(train_x,train_y['Y_01'])"
      ],
      "metadata": {
        "id": "ubvQp_S1xbmW"
      },
      "execution_count": null,
      "outputs": []
    },
    {
      "cell_type": "code",
      "source": [
        "pred_gb_Y_01 = gbr_Y_01.predict(test_x)\n",
        "#pred_xgb_Y_01 = xgb_Y_01.predict(test_x)\n",
        "pred_lgb_Y_01 = lightgbm_Y_01.predict(test_x)\n",
        "pred_cat_Y_01 = catboost_Y_01.predict(test_x)"
      ],
      "metadata": {
        "id": "lJT8ovWbxbmW"
      },
      "execution_count": null,
      "outputs": []
    },
    {
      "cell_type": "code",
      "source": [
        "# pred_Y_01_ensemble = pred_lgb_Y_01"
      ],
      "metadata": {
        "id": "VTYLikjZedz5"
      },
      "execution_count": null,
      "outputs": []
    },
    {
      "cell_type": "code",
      "source": [
        "pred_Y_01_ensemble =  pred_gb_Y_01*0.4 + pred_lgb_Y_01*0.5 + pred_cat_Y_01*0.1"
      ],
      "metadata": {
        "id": "TgqUc0dAxbmX"
      },
      "execution_count": null,
      "outputs": []
    },
    {
      "cell_type": "code",
      "source": [
        "sample_submission['Y_01'] = pred_Y_01_ensemble"
      ],
      "metadata": {
        "id": "hUL-_1TaxbmX"
      },
      "execution_count": null,
      "outputs": []
    },
    {
      "cell_type": "markdown",
      "source": [
        "## Y_02"
      ],
      "metadata": {
        "id": "HyuQTHuKsvpW"
      }
    },
    {
      "cell_type": "code",
      "source": [
        "lightgbm_Y_02 = lgb.LGBMRegressor(bagging_fraction=0.7642214017718282, bagging_freq=1,\n",
        "              feature_fraction=0.8676065963799555,\n",
        "              learning_rate=0.00864265864457987, min_child_samples=68,\n",
        "              min_split_gain=0.2550392624761004, n_estimators=296,\n",
        "              num_leaves=248, random_state=42, reg_alpha=2.306873241784726e-05,\n",
        "              reg_lambda=0.07577327208137193).fit(train_x,train_y['Y_02'])"
      ],
      "metadata": {
        "id": "bdCsKMq-svpW"
      },
      "execution_count": null,
      "outputs": []
    },
    {
      "cell_type": "code",
      "source": [
        "# xgb_Y_02 =  BaggingRegressor(base_estimator=XGBRegressor(base_score=0.5, booster='gbtree',\n",
        "#                                              colsample_bylevel=1,\n",
        "#                                              colsample_bynode=1,\n",
        "#                                              colsample_bytree=0.5116487103581219,\n",
        "#                                              gamma=0, gpu_id=0,\n",
        "#                                              importance_type='gain',\n",
        "#                                              interaction_constraints='',\n",
        "#                                              learning_rate=0.07977498757924376,\n",
        "#                                              max_delta_step=0, max_depth=3,\n",
        "#                                              min_child_weight=1,\n",
        "#                                              n_estimators=239, n_jobs=-1,\n",
        "#                                              num_parallel_tree=1,\n",
        "#                                              random_state=42,\n",
        "#                                              reg_alpha=1.296241788406927e-06,\n",
        "#                                              reg_lambda=2.1341766607100237,\n",
        "#                                              scale_pos_weight=31.042164955168403,\n",
        "#                                              validate_parameters=1,\n",
        "#                                              verbosity=0),n_estimators=30, n_jobs=1, random_state=42).fit(train_x,train_y['Y_02'])"
      ],
      "metadata": {
        "id": "DsTBd6mNsvpX"
      },
      "execution_count": null,
      "outputs": []
    },
    {
      "cell_type": "code",
      "source": [
        "gbr_Y_02 =GradientBoostingRegressor(learning_rate=0.014211238225789829, max_depth=6,\n",
        "                          max_features=0.45340193840915854,\n",
        "                          min_impurity_decrease=6.173511671095757e-05,\n",
        "                          min_samples_leaf=5, min_samples_split=9,\n",
        "                          n_estimators=296, random_state=42,\n",
        "                          subsample=0.7924572396498928).fit(train_x,train_y['Y_02'])"
      ],
      "metadata": {
        "id": "fMGpOqiosvpX"
      },
      "execution_count": null,
      "outputs": []
    },
    {
      "cell_type": "code",
      "source": [
        "catboost_Y_02 = BaggingRegressor(base_estimator=CatBoostRegressor(depth= 10,\n",
        " l2_leaf_reg= 1,\n",
        " loss_function= 'RMSE',\n",
        " border_count= 254,\n",
        " verbose= False,\n",
        " random_strength= 0.5448661113920873,\n",
        " task_type= 'CPU',\n",
        " n_estimators= 300,\n",
        " random_state= 42,\n",
        " eta= 0.019842002273507353),n_estimators=30, n_jobs=1, random_state=42).fit(train_x,train_y['Y_02'])"
      ],
      "metadata": {
        "id": "g3Mi0j4PsvpX"
      },
      "execution_count": null,
      "outputs": []
    },
    {
      "cell_type": "code",
      "source": [
        "pred_gb_Y_02 = gbr_Y_02.predict(test_x)\n",
        "# pred_xgb_Y_02 = xgb_Y_02.predict(test_x)\n",
        "pred_lgb_Y_02 = lightgbm_Y_02.predict(test_x)\n",
        "pred_cat_Y_02 = catboost_Y_02.predict(test_x)"
      ],
      "metadata": {
        "id": "s931bfvjsvpX"
      },
      "execution_count": null,
      "outputs": []
    },
    {
      "cell_type": "code",
      "source": [
        "pred_Y_02_ensemble =  pred_gb_Y_02*0.4 + pred_lgb_Y_02*0.5 + pred_cat_Y_02*0.1"
      ],
      "metadata": {
        "id": "af61Gvk4svpY"
      },
      "execution_count": null,
      "outputs": []
    },
    {
      "cell_type": "code",
      "source": [
        "sample_submission['Y_02'] = pred_Y_02_ensemble"
      ],
      "metadata": {
        "id": "XLli84CusvpY"
      },
      "execution_count": null,
      "outputs": []
    },
    {
      "cell_type": "markdown",
      "source": [
        "## Y_03"
      ],
      "metadata": {
        "id": "BrFkGawPrxL7"
      }
    },
    {
      "cell_type": "code",
      "source": [
        "lightgbm_Y_03 = lgb.LGBMRegressor(bagging_fraction=0.7220587788311053, bagging_freq=3,\n",
        "              feature_fraction=0.8954078184343524,\n",
        "              learning_rate=0.011976502687763995, min_child_samples=28,\n",
        "              min_split_gain=0.16926539626922182, n_estimators=254,\n",
        "              num_leaves=150, random_state=42, reg_alpha=5.096795970275427e-07,\n",
        "              reg_lambda=2.052414799701436e-10).fit(train_x,train_y['Y_03'])"
      ],
      "metadata": {
        "id": "o89CcpklrxMC"
      },
      "execution_count": null,
      "outputs": []
    },
    {
      "cell_type": "code",
      "source": [
        "# xgb_Y_03 = BaggingRegressor(base_estimator=XGBRegressor(base_score=0.5, booster='gbtree',\n",
        "#                                              colsample_bylevel=1,\n",
        "#                                              colsample_bynode=1,\n",
        "#                                              colsample_bytree=0.8796040274792856,\n",
        "#                                              gamma=0,\n",
        "#                                              importance_type='gain',\n",
        "#                                              interaction_constraints='',\n",
        "#                                              learning_rate=0.042390822957329766,\n",
        "#                                              max_delta_step=0, max_depth=3,\n",
        "#                                              min_child_weight=4,                      \n",
        "#                                              n_estimators=152, n_jobs=-1,\n",
        "#                                              num_parallel_tree=1,\n",
        "#                                              random_state=42,\n",
        "#                                              reg_alpha=5.8000830531275704e-05,\n",
        "#                                              reg_lambda=0.00023840848215456116,\n",
        "#                                              scale_pos_weight=23.880181098699897,\n",
        "#                                              subsample=0.6255071325761761,\n",
        "#                                              tree_method='auto',\n",
        "#                                              validate_parameters=1,\n",
        "#                                              verbosity=0),n_estimators=30, n_jobs=1, random_state=42).fit(train_x,train_y['Y_03'])"
      ],
      "metadata": {
        "id": "xMZBmFusrxMC"
      },
      "execution_count": null,
      "outputs": []
    },
    {
      "cell_type": "code",
      "source": [
        "gbr_Y_03 =GradientBoostingRegressor(learning_rate=0.007920599935104354, max_depth=9,\n",
        "                          max_features=0.9958042425603121,\n",
        "                          min_impurity_decrease=1.3837142440602336e-05,\n",
        "                          min_samples_leaf=3, min_samples_split=3,\n",
        "                          n_estimators=291, random_state=42,\n",
        "                          subsample=0.5769261150355292).fit(train_x,train_y['Y_03'])"
      ],
      "metadata": {
        "id": "NqPMm0vTrxMC"
      },
      "execution_count": null,
      "outputs": []
    },
    {
      "cell_type": "code",
      "source": [
        "catboost_Y_03 = BaggingRegressor(base_estimator=CatBoostRegressor(depth= 7,\n",
        " l2_leaf_reg= 98,\n",
        " loss_function= 'RMSE',\n",
        " border_count= 254,\n",
        " verbose= False,\n",
        " random_strength= 0.7744738290468063,\n",
        " task_type= 'CPU',\n",
        " n_estimators= 271,\n",
        " random_state= 42,\n",
        " eta= 0.0831520545759692),n_estimators=30, n_jobs=1, random_state=42).fit(train_x,train_y['Y_03'])"
      ],
      "metadata": {
        "id": "m3zm_jH2rxMD"
      },
      "execution_count": null,
      "outputs": []
    },
    {
      "cell_type": "code",
      "source": [
        "pred_gb_Y_03 = gbr_Y_03.predict(test_x)\n",
        "# pred_xgb_Y_03 = xgb_Y_03.predict(test_x)\n",
        "pred_lgb_Y_03 = lightgbm_Y_03.predict(test_x)\n",
        "pred_cat_Y_03 = catboost_Y_03.predict(test_x)"
      ],
      "metadata": {
        "id": "X6gBk9hMrxMD"
      },
      "execution_count": null,
      "outputs": []
    },
    {
      "cell_type": "code",
      "source": [
        "pred_Y_03_ensemble =  pred_gb_Y_03*0.4 + pred_lgb_Y_03*0.2 + pred_cat_Y_03*0.4"
      ],
      "metadata": {
        "id": "0xn5HkYJrxMD"
      },
      "execution_count": null,
      "outputs": []
    },
    {
      "cell_type": "code",
      "source": [
        "sample_submission['Y_03'] = pred_Y_03_ensemble"
      ],
      "metadata": {
        "id": "G4BZ12DUrxMD"
      },
      "execution_count": null,
      "outputs": []
    },
    {
      "cell_type": "markdown",
      "source": [
        "## Y_04"
      ],
      "metadata": {
        "id": "I6c8wryMrKqx"
      }
    },
    {
      "cell_type": "code",
      "source": [
        "lightgbm_Y_04 = lgb.LGBMRegressor(bagging_fraction=0.9166500862884649, bagging_freq=1,\n",
        "              feature_fraction=0.5335602774521525,\n",
        "              learning_rate=0.016087809538596266, min_child_samples=69,\n",
        "              min_split_gain=0.7959999534940877, n_estimators=294,\n",
        "              num_leaves=177, random_state=42, reg_alpha=2.1751579363138357e-06,\n",
        "              reg_lambda=5.824020093449812e-07).fit(train_x,train_y['Y_04'])"
      ],
      "metadata": {
        "id": "4c_0eSSNrKqy"
      },
      "execution_count": null,
      "outputs": []
    },
    {
      "cell_type": "code",
      "source": [
        "xgb_Y_04 = BaggingRegressor(base_estimator=XGBRegressor(base_score=0.5, booster='gbtree',\n",
        "                                             colsample_bylevel=1,\n",
        "                                             colsample_bynode=1,\n",
        "                                             colsample_bytree=0.9046805777392568,\n",
        "                                             gamma=0, \n",
        "                                             importance_type='gain',\n",
        "                                             \n",
        "                                             learning_rate=0.04138204383280735,\n",
        "                                             max_delta_step=0, max_depth=10,\n",
        "                                             min_child_weight=4, \n",
        "                                             n_estimators=158, n_jobs=-1,\n",
        "                                             num_parallel_tree=1,\n",
        "                                             random_state=42,\n",
        "                                             reg_alpha=3.2860883941242434e-05,\n",
        "                                             reg_lambda=0.0604292172277978,\n",
        "                                             scale_pos_weight=32.84823260811049,\n",
        "                                             subsample=0.7615735018061627,\n",
        "                                             tree_method='auto',\n",
        "                                             validate_parameters=1,verbosity=0)).fit(train_x,train_y['Y_04'])"
      ],
      "metadata": {
        "id": "y3fFwJMMrKqy"
      },
      "execution_count": null,
      "outputs": []
    },
    {
      "cell_type": "code",
      "source": [
        "gbr_Y_04 =GradientBoostingRegressor(learning_rate=0.010820435454957386, max_depth=11,\n",
        "                          max_features=0.5970282733038268,\n",
        "                          min_impurity_decrease=2.7262411803771476e-08,\n",
        "                          min_samples_leaf=2, min_samples_split=7,\n",
        "                          n_estimators=281, random_state=42,\n",
        "                          subsample=0.8967129136197456).fit(train_x,train_y['Y_04'])"
      ],
      "metadata": {
        "id": "C2LyxLRerKqz"
      },
      "execution_count": null,
      "outputs": []
    },
    {
      "cell_type": "code",
      "source": [
        "rf_Y_04 = RandomForestRegressor(n_estimators = 1000, max_features = 'auto', \n",
        "                            min_samples_split = 50, bootstrap = True,\n",
        "                            max_depth = 50, \n",
        "                            max_samples = 1,n_bins =128, n_streams = 2,\n",
        "                            min_samples_leaf = 8).fit(train_x,train_y['Y_04'])"
      ],
      "metadata": {
        "id": "RQASR4vtJMPY"
      },
      "execution_count": null,
      "outputs": []
    },
    {
      "cell_type": "code",
      "source": [
        "catboost_Y_04 = BaggingRegressor(base_estimator=CatBoostRegressor(depth= 8,\n",
        " l2_leaf_reg= 2,\n",
        " loss_function= 'RMSE',\n",
        " border_count= 254,\n",
        " verbose= False,\n",
        " random_strength= 0.7788427100693812,\n",
        " task_type= 'CPU',\n",
        " n_estimators= 300,\n",
        " random_state= 42,\n",
        " eta= 0.053954589959171614),n_estimators=30, n_jobs=1, random_state=42).fit(train_x,train_y['Y_04'])"
      ],
      "metadata": {
        "id": "1eP-me4SrKqz"
      },
      "execution_count": null,
      "outputs": []
    },
    {
      "cell_type": "code",
      "source": [
        "#pred_gb_Y_04 = gbr_Y_04.predict(test_x)\n",
        "pred_xgb_Y_04 = xgb_Y_04.predict(test_x)\n",
        "pred_lgb_Y_04 = lightgbm_Y_04.predict(test_x)\n",
        "#pred_cat_Y_04 = catboost_Y_04.predict(test_x)\n",
        "#pred_rf_Y_04 = rf_Y_04.predict(test_x)"
      ],
      "metadata": {
        "id": "2G8I98rqrKq0"
      },
      "execution_count": null,
      "outputs": []
    },
    {
      "cell_type": "code",
      "source": [
        "pred_Y_04_ensemble =  pred_xgb_Y_04*0.2 + pred_lgb_Y_04*0.8"
      ],
      "metadata": {
        "id": "CQsMDR4lfNJW"
      },
      "execution_count": null,
      "outputs": []
    },
    {
      "cell_type": "code",
      "source": [
        "sample_submission['Y_04'] = pred_Y_04_ensemble"
      ],
      "metadata": {
        "id": "H2SVlyc7rKq0"
      },
      "execution_count": null,
      "outputs": []
    },
    {
      "cell_type": "markdown",
      "source": [
        "## Y_05"
      ],
      "metadata": {
        "id": "eQ78SuLPqgXF"
      }
    },
    {
      "cell_type": "code",
      "source": [
        "lightgbm_Y_05 = lgb.LGBMRegressor(bagging_fraction=0.9828668744908224, bagging_freq=0,\n",
        "              feature_fraction=0.506810098674697,\n",
        "              learning_rate=0.01367133250059816, min_child_samples=79,\n",
        "              min_split_gain=0.26613342689378217, n_estimators=278,\n",
        "              num_leaves=194, random_state=42, reg_alpha=0.002105994037805515,\n",
        "              reg_lambda=0.6505283042879445).fit(train_x,train_y['Y_05'])"
      ],
      "metadata": {
        "id": "7H38y8YVqgXG"
      },
      "execution_count": null,
      "outputs": []
    },
    {
      "cell_type": "code",
      "source": [
        "xgb_Y_05 = BaggingRegressor(base_estimator=XGBRegressor(base_score=0.5, booster='gbtree',\n",
        "                                             colsample_bylevel=1,\n",
        "                                             colsample_bynode=1,\n",
        "                                             colsample_bytree=0.8178246777102668,\n",
        "                                             gamma=0,\n",
        "                                             importance_type='gain',\n",
        "                                             interaction_constraints='',\n",
        "                                             learning_rate=0.031194386754750062,\n",
        "                                             max_delta_step=0, max_depth=11,\n",
        "                                             min_child_weight=1,\n",
        "                                             n_estimators=220, n_jobs=-1,\n",
        "                                             num_parallel_tree=1,\n",
        "                                             random_state=42,\n",
        "                                             reg_alpha=1.2826639855192837e-07,\n",
        "                                             reg_lambda=0.00021082239281910143,\n",
        "                                             scale_pos_weight=28.06019301111908,\n",
        "                                             subsample=0.9041545496671812,\n",
        "                                             tree_method='auto',\n",
        "                                             validate_parameters=1,\n",
        "                                             verbosity=0),n_estimators=30, random_state=42).fit(train_x,train_y['Y_05'])"
      ],
      "metadata": {
        "id": "WWMfVzPQqgXG"
      },
      "execution_count": null,
      "outputs": []
    },
    {
      "cell_type": "code",
      "source": [
        "gbr_Y_05 = GradientBoostingRegressor(learning_rate=0.023003908615888507, max_depth=11,\n",
        "                          max_features=0.5259419040666877,\n",
        "                          min_impurity_decrease=2.066728470159484e-05,\n",
        "                          min_samples_leaf=4, min_samples_split=8,\n",
        "                          n_estimators=156, random_state=42,\n",
        "                          subsample=0.7874162856084028).fit(train_x,train_y['Y_05'])"
      ],
      "metadata": {
        "id": "i82IvT8BqgXH"
      },
      "execution_count": null,
      "outputs": []
    },
    {
      "cell_type": "code",
      "source": [
        "catboost_Y_05 = BaggingRegressor(base_estimator=CatBoostRegressor(depth= 7,\n",
        "                            l2_leaf_reg= 7,\n",
        "                            loss_function= 'RMSE',\n",
        "                            border_count= 254,\n",
        "                            verbose= False,\n",
        "                            random_strength= 0.493663486801853,\n",
        "                            task_type= 'CPU',\n",
        "                            n_estimators= 235,\n",
        "                            random_state= 42,\n",
        "                            eta= 0.09610669268285155),\n",
        "                            bootstrap = True,\n",
        "                            bootstrap_features = False,\n",
        "                            max_features = 1.0,\n",
        "                            max_samples = 1.0,\n",
        "                            n_estimators = 30,\n",
        "                            n_jobs = None,\n",
        "                            oob_score = False,\n",
        "                            random_state = 42,\n",
        "                            verbose = 0,\n",
        "                            warm_start = False).fit(train_x,train_y['Y_05'])"
      ],
      "metadata": {
        "id": "cMhZp2C3qgXI"
      },
      "execution_count": null,
      "outputs": []
    },
    {
      "cell_type": "code",
      "source": [
        "rf_Y_05 =  RandomForestRegressor(n_estimators = 1000, max_features = 'auto', \n",
        "                            min_samples_split = 150, bootstrap = True,\n",
        "                            max_depth = 50, \n",
        "                            max_samples = 1,\n",
        "                            min_samples_leaf = 32).fit(train_x,train_y['Y_05'])"
      ],
      "metadata": {
        "id": "EmZoJjBEOW_W"
      },
      "execution_count": null,
      "outputs": []
    },
    {
      "cell_type": "code",
      "source": [
        "# pred_gb_Y_05 = gbr_Y_05.predict(test_x)\n",
        "pred_xgb_Y_05 = xgb_Y_05.predict(test_x)\n",
        "pred_lgb_Y_05 = lightgbm_Y_05.predict(test_x)\n",
        "pred_cat_Y_05 = catboost_Y_05.predict(test_x)\n",
        "# pred_rf_Y_05 = rf_Y_05.predict(test_x)"
      ],
      "metadata": {
        "id": "I5srqi7LqgXJ"
      },
      "execution_count": null,
      "outputs": []
    },
    {
      "cell_type": "code",
      "source": [
        "pred_Y_05_ensemble =  pred_xgb_Y_05*0.3 + pred_lgb_Y_05*0.5 + pred_cat_Y_05*0.2"
      ],
      "metadata": {
        "id": "DjJNsvptqgXJ"
      },
      "execution_count": null,
      "outputs": []
    },
    {
      "cell_type": "code",
      "source": [
        "sample_submission['Y_05'] = pred_Y_05_ensemble"
      ],
      "metadata": {
        "id": "7vs0vFyzqgXJ"
      },
      "execution_count": null,
      "outputs": []
    },
    {
      "cell_type": "markdown",
      "source": [
        "## Y_06"
      ],
      "metadata": {
        "id": "wZ02YBrQkqiz"
      }
    },
    {
      "cell_type": "code",
      "source": [
        "lightgbm_Y_06 = lgb.LGBMRegressor(bagging_fraction=0.9579031283860148, bagging_freq=6,\n",
        "              feature_fraction=0.6643860696661427,\n",
        "              learning_rate=0.020142699080470918, min_child_samples=16,\n",
        "              min_split_gain=0.7155186457137692, n_estimators=270,\n",
        "              num_leaves=228, random_state=42, reg_alpha=0.3433202364550086,\n",
        "              reg_lambda=0.8027623126620722).fit(train_x,train_y['Y_06'])"
      ],
      "metadata": {
        "id": "N0Yq3itZkqi6"
      },
      "execution_count": null,
      "outputs": []
    },
    {
      "cell_type": "code",
      "source": [
        "xgb_Y_06 = BaggingRegressor(base_estimator=XGBRegressor(base_score=0.5, booster='gbtree',\n",
        "                                             colsample_bylevel=1,\n",
        "                                             colsample_bynode=1,\n",
        "                                             colsample_bytree=0.9046805777392568,\n",
        "                                             gamma=0, gpu_id=0,\n",
        "                                             importance_type='gain',\n",
        "                                             interaction_constraints='',\n",
        "                                             learning_rate=0.04138204383280735,\n",
        "                                             max_delta_step=0, max_depth=10,\n",
        "                                             min_child_weight=4,\n",
        "                                             n_estimators=158, n_jobs=-1,\n",
        "                                             num_parallel_tree=1,\n",
        "                                             random_state=42,\n",
        "                                             reg_alpha=3.2860883941242434e-05,\n",
        "                                             reg_lambda=0.0604292172277978,\n",
        "                                             scale_pos_weight=32.84823260811049,\n",
        "                                             subsample=0.7615735018061627,\n",
        "                                             validate_parameters=1,\n",
        "                                             verbosity=0)).fit(train_x,train_y['Y_06'])"
      ],
      "metadata": {
        "id": "caL8JtJHkqi7"
      },
      "execution_count": null,
      "outputs": []
    },
    {
      "cell_type": "code",
      "source": [
        "gbr_Y_06 = GradientBoostingRegressor(learning_rate=0.04549583802747526, max_depth=9,\n",
        "                          max_features=0.4667421108576381,\n",
        "                          min_impurity_decrease=6.098855968050519e-06,\n",
        "                          min_samples_leaf=4, min_samples_split=3,\n",
        "                          random_state=42, subsample=0.9310311336710109).fit(train_x,train_y['Y_06'])"
      ],
      "metadata": {
        "id": "KaFDWNPkkqi7"
      },
      "execution_count": null,
      "outputs": []
    },
    {
      "cell_type": "code",
      "source": [
        "catboost_Y_06 = CatBoostRegressor(eval_metric='RMSE',iterations= 277,sampling_frequency = 'PerTree',\n",
        "                        leaf_estimation_method= 'Newton',grow_policy= 'SymmetricTree',penalties_coefficient= 1,\n",
        "                        boosting_type = 'Plain', model_shrink_mode = 'Constant',feature_border_type= 'GreedyLogSum', l2_leaf_reg= 31, random_strength= 0.3085096776485443, rsm= 1,\n",
        "                        boost_from_average = True, model_size_reg =  0.5, subsample = 0.800000011920929, use_best_model= False,\n",
        "                        random_seed = 42,depth= 10, posterior_sampling= False, border_count= 254, \n",
        "                        learning_rate= 0.3210740387439728,max_leaves = 1024).fit(train_x,train_y['Y_06'])"
      ],
      "metadata": {
        "colab": {
          "base_uri": "https://localhost:8080/"
        },
        "id": "6ETHimTCkqi7",
        "outputId": "28be20fe-a76d-453c-ccea-2c38b0de081e"
      },
      "execution_count": null,
      "outputs": [
        {
          "output_type": "stream",
          "name": "stdout",
          "text": [
            "0:\tlearn: 1.8371796\ttotal: 207ms\tremaining: 57s\n",
            "1:\tlearn: 1.7914204\ttotal: 397ms\tremaining: 54.6s\n",
            "2:\tlearn: 1.7555192\ttotal: 600ms\tremaining: 54.8s\n",
            "3:\tlearn: 1.7219595\ttotal: 799ms\tremaining: 54.6s\n",
            "4:\tlearn: 1.6961037\ttotal: 1.04s\tremaining: 56.9s\n",
            "5:\tlearn: 1.6705781\ttotal: 1.25s\tremaining: 56.2s\n",
            "6:\tlearn: 1.6325192\ttotal: 1.44s\tremaining: 55.4s\n",
            "7:\tlearn: 1.6236955\ttotal: 1.64s\tremaining: 55.2s\n",
            "8:\tlearn: 1.6148365\ttotal: 1.83s\tremaining: 54.6s\n",
            "9:\tlearn: 1.5887219\ttotal: 2.05s\tremaining: 54.6s\n",
            "10:\tlearn: 1.5686639\ttotal: 2.25s\tremaining: 54.5s\n",
            "11:\tlearn: 1.5442961\ttotal: 2.45s\tremaining: 54.1s\n",
            "12:\tlearn: 1.5363183\ttotal: 2.65s\tremaining: 53.8s\n",
            "13:\tlearn: 1.5274764\ttotal: 2.84s\tremaining: 53.4s\n",
            "14:\tlearn: 1.5106381\ttotal: 3.06s\tremaining: 53.5s\n",
            "15:\tlearn: 1.5102167\ttotal: 3.25s\tremaining: 53s\n",
            "16:\tlearn: 1.5097079\ttotal: 3.44s\tremaining: 52.7s\n",
            "17:\tlearn: 1.5092994\ttotal: 3.64s\tremaining: 52.4s\n",
            "18:\tlearn: 1.5090009\ttotal: 3.84s\tremaining: 52.1s\n",
            "19:\tlearn: 1.5087035\ttotal: 3.9s\tremaining: 50.1s\n",
            "20:\tlearn: 1.5012697\ttotal: 4.12s\tremaining: 50.2s\n",
            "21:\tlearn: 1.5009776\ttotal: 4.18s\tremaining: 48.5s\n",
            "22:\tlearn: 1.5006915\ttotal: 4.37s\tremaining: 48.3s\n",
            "23:\tlearn: 1.4822316\ttotal: 4.57s\tremaining: 48.2s\n",
            "24:\tlearn: 1.4820618\ttotal: 4.77s\tremaining: 48.1s\n",
            "25:\tlearn: 1.4818873\ttotal: 4.86s\tremaining: 46.9s\n",
            "26:\tlearn: 1.4816196\ttotal: 5.06s\tremaining: 46.9s\n",
            "27:\tlearn: 1.4814593\ttotal: 5.25s\tremaining: 46.7s\n",
            "28:\tlearn: 1.4811930\ttotal: 5.45s\tremaining: 46.6s\n",
            "29:\tlearn: 1.4808924\ttotal: 5.64s\tremaining: 46.4s\n",
            "30:\tlearn: 1.4806395\ttotal: 5.83s\tremaining: 46.3s\n",
            "31:\tlearn: 1.4804927\ttotal: 6.04s\tremaining: 46.2s\n",
            "32:\tlearn: 1.4802462\ttotal: 6.24s\tremaining: 46.1s\n",
            "33:\tlearn: 1.4800055\ttotal: 6.43s\tremaining: 46s\n",
            "34:\tlearn: 1.4742708\ttotal: 6.63s\tremaining: 45.8s\n",
            "35:\tlearn: 1.4741264\ttotal: 6.82s\tremaining: 45.7s\n",
            "36:\tlearn: 1.4738901\ttotal: 7.02s\tremaining: 45.5s\n",
            "37:\tlearn: 1.4737513\ttotal: 7.22s\tremaining: 45.4s\n",
            "38:\tlearn: 1.4736149\ttotal: 7.41s\tremaining: 45.2s\n",
            "39:\tlearn: 1.4561992\ttotal: 7.62s\tremaining: 45.1s\n",
            "40:\tlearn: 1.4559828\ttotal: 7.82s\tremaining: 45s\n",
            "41:\tlearn: 1.4557715\ttotal: 8.01s\tremaining: 44.8s\n",
            "42:\tlearn: 1.4555637\ttotal: 8.21s\tremaining: 44.7s\n",
            "43:\tlearn: 1.4553615\ttotal: 8.41s\tremaining: 44.5s\n",
            "44:\tlearn: 1.4551626\ttotal: 8.6s\tremaining: 44.4s\n",
            "45:\tlearn: 1.4549677\ttotal: 8.8s\tremaining: 44.2s\n",
            "46:\tlearn: 1.4548482\ttotal: 8.99s\tremaining: 44s\n",
            "47:\tlearn: 1.4495663\ttotal: 9.2s\tremaining: 43.9s\n",
            "48:\tlearn: 1.4494205\ttotal: 9.39s\tremaining: 43.7s\n",
            "49:\tlearn: 1.4448056\ttotal: 9.59s\tremaining: 43.5s\n",
            "50:\tlearn: 1.4446568\ttotal: 9.78s\tremaining: 43.3s\n",
            "51:\tlearn: 1.4342015\ttotal: 9.99s\tremaining: 43.2s\n",
            "52:\tlearn: 1.4340085\ttotal: 10.2s\tremaining: 43.1s\n",
            "53:\tlearn: 1.4338245\ttotal: 10.4s\tremaining: 42.9s\n",
            "54:\tlearn: 1.4337136\ttotal: 10.6s\tremaining: 42.7s\n",
            "55:\tlearn: 1.4336062\ttotal: 10.8s\tremaining: 42.5s\n",
            "56:\tlearn: 1.4335025\ttotal: 11s\tremaining: 42.3s\n",
            "57:\tlearn: 1.4333289\ttotal: 11.2s\tremaining: 42.2s\n",
            "58:\tlearn: 1.4331593\ttotal: 11.4s\tremaining: 41.9s\n",
            "59:\tlearn: 1.4330601\ttotal: 11.6s\tremaining: 41.9s\n",
            "60:\tlearn: 1.4295264\ttotal: 11.8s\tremaining: 41.8s\n",
            "61:\tlearn: 1.4294264\ttotal: 12s\tremaining: 41.6s\n",
            "62:\tlearn: 1.4293259\ttotal: 12.2s\tremaining: 41.4s\n",
            "63:\tlearn: 1.4292334\ttotal: 12.4s\tremaining: 41.2s\n",
            "64:\tlearn: 1.4291407\ttotal: 12.6s\tremaining: 41s\n",
            "65:\tlearn: 1.4290515\ttotal: 12.8s\tremaining: 40.8s\n",
            "66:\tlearn: 1.4289644\ttotal: 13s\tremaining: 40.6s\n",
            "67:\tlearn: 1.4249454\ttotal: 13.1s\tremaining: 40.4s\n",
            "68:\tlearn: 1.4220747\ttotal: 13.4s\tremaining: 40.3s\n",
            "69:\tlearn: 1.4219187\ttotal: 13.5s\tremaining: 40s\n",
            "70:\tlearn: 1.4218294\ttotal: 13.7s\tremaining: 39.9s\n",
            "71:\tlearn: 1.4217447\ttotal: 13.9s\tremaining: 39.7s\n",
            "72:\tlearn: 1.4216610\ttotal: 14.1s\tremaining: 39.5s\n",
            "73:\tlearn: 1.4215769\ttotal: 14.3s\tremaining: 39.3s\n",
            "74:\tlearn: 1.4096381\ttotal: 14.5s\tremaining: 39.1s\n",
            "75:\tlearn: 1.4094954\ttotal: 14.7s\tremaining: 38.9s\n",
            "76:\tlearn: 1.4014288\ttotal: 14.9s\tremaining: 38.7s\n",
            "77:\tlearn: 1.3988489\ttotal: 15.1s\tremaining: 38.5s\n",
            "78:\tlearn: 1.3987057\ttotal: 15.3s\tremaining: 38.4s\n",
            "79:\tlearn: 1.3986264\ttotal: 15.5s\tremaining: 38.2s\n",
            "80:\tlearn: 1.3984905\ttotal: 15.7s\tremaining: 38s\n",
            "81:\tlearn: 1.3984160\ttotal: 15.9s\tremaining: 37.8s\n",
            "82:\tlearn: 1.3961986\ttotal: 16.1s\tremaining: 37.6s\n",
            "83:\tlearn: 1.3903604\ttotal: 16.3s\tremaining: 37.4s\n",
            "84:\tlearn: 1.3880911\ttotal: 16.5s\tremaining: 37.2s\n",
            "85:\tlearn: 1.3827898\ttotal: 16.7s\tremaining: 37s\n",
            "86:\tlearn: 1.3752545\ttotal: 16.8s\tremaining: 36.8s\n",
            "87:\tlearn: 1.3727322\ttotal: 17s\tremaining: 36.6s\n",
            "88:\tlearn: 1.3701101\ttotal: 17.2s\tremaining: 36.4s\n",
            "89:\tlearn: 1.3681515\ttotal: 17.4s\tremaining: 36.2s\n",
            "90:\tlearn: 1.3651555\ttotal: 17.6s\tremaining: 36s\n",
            "91:\tlearn: 1.3578742\ttotal: 17.8s\tremaining: 35.8s\n",
            "92:\tlearn: 1.3577322\ttotal: 18s\tremaining: 35.6s\n",
            "93:\tlearn: 1.3575952\ttotal: 18.2s\tremaining: 35.4s\n",
            "94:\tlearn: 1.3498866\ttotal: 18.4s\tremaining: 35.3s\n",
            "95:\tlearn: 1.3439993\ttotal: 18.6s\tremaining: 35.1s\n",
            "96:\tlearn: 1.3376975\ttotal: 18.8s\tremaining: 34.9s\n",
            "97:\tlearn: 1.3375538\ttotal: 19s\tremaining: 34.7s\n",
            "98:\tlearn: 1.3374717\ttotal: 19.2s\tremaining: 34.5s\n",
            "99:\tlearn: 1.3373913\ttotal: 19.4s\tremaining: 34.4s\n",
            "100:\tlearn: 1.3372657\ttotal: 19.6s\tremaining: 34.2s\n",
            "101:\tlearn: 1.3371428\ttotal: 19.8s\tremaining: 34s\n",
            "102:\tlearn: 1.3370759\ttotal: 20s\tremaining: 33.8s\n",
            "103:\tlearn: 1.3370090\ttotal: 20.2s\tremaining: 33.6s\n",
            "104:\tlearn: 1.3336395\ttotal: 20.4s\tremaining: 33.4s\n",
            "105:\tlearn: 1.3322427\ttotal: 20.6s\tremaining: 33.2s\n",
            "106:\tlearn: 1.3274395\ttotal: 20.8s\tremaining: 33s\n",
            "107:\tlearn: 1.3212646\ttotal: 21s\tremaining: 32.8s\n",
            "108:\tlearn: 1.3165507\ttotal: 21.2s\tremaining: 32.6s\n",
            "109:\tlearn: 1.3147306\ttotal: 21.4s\tremaining: 32.4s\n",
            "110:\tlearn: 1.3145551\ttotal: 21.6s\tremaining: 32.3s\n",
            "111:\tlearn: 1.3143316\ttotal: 21.8s\tremaining: 32.1s\n",
            "112:\tlearn: 1.3141715\ttotal: 22s\tremaining: 31.9s\n",
            "113:\tlearn: 1.3140545\ttotal: 22.2s\tremaining: 31.7s\n",
            "114:\tlearn: 1.3139928\ttotal: 22.4s\tremaining: 31.5s\n",
            "115:\tlearn: 1.3139375\ttotal: 22.6s\tremaining: 31.3s\n",
            "116:\tlearn: 1.3138256\ttotal: 22.8s\tremaining: 31.1s\n",
            "117:\tlearn: 1.3137698\ttotal: 23s\tremaining: 31s\n",
            "118:\tlearn: 1.3118090\ttotal: 23.2s\tremaining: 30.8s\n",
            "119:\tlearn: 1.3117539\ttotal: 23.4s\tremaining: 30.6s\n",
            "120:\tlearn: 1.3070697\ttotal: 23.6s\tremaining: 30.4s\n",
            "121:\tlearn: 1.3056493\ttotal: 23.8s\tremaining: 30.2s\n",
            "122:\tlearn: 1.3055437\ttotal: 24s\tremaining: 30s\n",
            "123:\tlearn: 1.3054864\ttotal: 24.1s\tremaining: 29.8s\n",
            "124:\tlearn: 1.3013530\ttotal: 24.3s\tremaining: 29.6s\n",
            "125:\tlearn: 1.3012975\ttotal: 24.5s\tremaining: 29.4s\n",
            "126:\tlearn: 1.2933121\ttotal: 24.7s\tremaining: 29.2s\n",
            "127:\tlearn: 1.2891292\ttotal: 24.9s\tremaining: 29s\n",
            "128:\tlearn: 1.2890232\ttotal: 25.1s\tremaining: 28.8s\n",
            "129:\tlearn: 1.2874685\ttotal: 25.3s\tremaining: 28.6s\n",
            "130:\tlearn: 1.2873665\ttotal: 25.5s\tremaining: 28.5s\n",
            "131:\tlearn: 1.2859828\ttotal: 25.7s\tremaining: 28.3s\n",
            "132:\tlearn: 1.2858838\ttotal: 25.9s\tremaining: 28.1s\n",
            "133:\tlearn: 1.2824533\ttotal: 26.1s\tremaining: 27.9s\n",
            "134:\tlearn: 1.2742372\ttotal: 26.3s\tremaining: 27.7s\n",
            "135:\tlearn: 1.2741829\ttotal: 26.5s\tremaining: 27.5s\n",
            "136:\tlearn: 1.2741305\ttotal: 26.7s\tremaining: 27.3s\n",
            "137:\tlearn: 1.2740363\ttotal: 26.9s\tremaining: 27.1s\n",
            "138:\tlearn: 1.2739879\ttotal: 27.1s\tremaining: 26.9s\n",
            "139:\tlearn: 1.2737597\ttotal: 27.3s\tremaining: 26.7s\n",
            "140:\tlearn: 1.2704302\ttotal: 27.5s\tremaining: 26.5s\n",
            "141:\tlearn: 1.2650147\ttotal: 27.7s\tremaining: 26.3s\n",
            "142:\tlearn: 1.2609534\ttotal: 27.9s\tremaining: 26.1s\n",
            "143:\tlearn: 1.2460422\ttotal: 28.1s\tremaining: 25.9s\n",
            "144:\tlearn: 1.2424828\ttotal: 28.3s\tremaining: 25.8s\n",
            "145:\tlearn: 1.2394242\ttotal: 28.5s\tremaining: 25.6s\n",
            "146:\tlearn: 1.2300518\ttotal: 28.7s\tremaining: 25.4s\n",
            "147:\tlearn: 1.2271866\ttotal: 28.9s\tremaining: 25.2s\n",
            "148:\tlearn: 1.2268543\ttotal: 29.1s\tremaining: 25s\n",
            "149:\tlearn: 1.2268023\ttotal: 29.3s\tremaining: 24.8s\n",
            "150:\tlearn: 1.2267095\ttotal: 29.5s\tremaining: 24.6s\n",
            "151:\tlearn: 1.2266646\ttotal: 29.7s\tremaining: 24.4s\n",
            "152:\tlearn: 1.2221708\ttotal: 29.9s\tremaining: 24.2s\n",
            "153:\tlearn: 1.2220824\ttotal: 30.1s\tremaining: 24s\n",
            "154:\tlearn: 1.2219964\ttotal: 30.3s\tremaining: 23.8s\n",
            "155:\tlearn: 1.2219552\ttotal: 30.5s\tremaining: 23.6s\n",
            "156:\tlearn: 1.2219134\ttotal: 30.7s\tremaining: 23.4s\n",
            "157:\tlearn: 1.2218734\ttotal: 30.9s\tremaining: 23.3s\n",
            "158:\tlearn: 1.2218347\ttotal: 31.1s\tremaining: 23.1s\n",
            "159:\tlearn: 1.2206675\ttotal: 31.3s\tremaining: 22.9s\n",
            "160:\tlearn: 1.2079081\ttotal: 31.4s\tremaining: 22.7s\n",
            "161:\tlearn: 1.2041401\ttotal: 31.7s\tremaining: 22.5s\n",
            "162:\tlearn: 1.2034382\ttotal: 31.9s\tremaining: 22.3s\n",
            "163:\tlearn: 1.1917513\ttotal: 32s\tremaining: 22.1s\n",
            "164:\tlearn: 1.1888024\ttotal: 32.3s\tremaining: 21.9s\n",
            "165:\tlearn: 1.1877967\ttotal: 32.5s\tremaining: 21.7s\n",
            "166:\tlearn: 1.1851502\ttotal: 32.7s\tremaining: 21.5s\n",
            "167:\tlearn: 1.1832860\ttotal: 32.9s\tremaining: 21.3s\n",
            "168:\tlearn: 1.1802321\ttotal: 33.1s\tremaining: 21.1s\n",
            "169:\tlearn: 1.1779076\ttotal: 33.2s\tremaining: 20.9s\n",
            "170:\tlearn: 1.1761104\ttotal: 33.4s\tremaining: 20.7s\n",
            "171:\tlearn: 1.1737141\ttotal: 33.6s\tremaining: 20.5s\n",
            "172:\tlearn: 1.1735360\ttotal: 33.8s\tremaining: 20.3s\n",
            "173:\tlearn: 1.1715475\ttotal: 34s\tremaining: 20.1s\n",
            "174:\tlearn: 1.1714617\ttotal: 34.2s\tremaining: 20s\n",
            "175:\tlearn: 1.1714200\ttotal: 34.4s\tremaining: 19.8s\n",
            "176:\tlearn: 1.1712182\ttotal: 34.6s\tremaining: 19.6s\n",
            "177:\tlearn: 1.1711808\ttotal: 34.8s\tremaining: 19.4s\n",
            "178:\tlearn: 1.1711440\ttotal: 35s\tremaining: 19.2s\n",
            "179:\tlearn: 1.1707956\ttotal: 35.2s\tremaining: 19s\n",
            "180:\tlearn: 1.1704612\ttotal: 35.4s\tremaining: 18.8s\n",
            "181:\tlearn: 1.1704256\ttotal: 35.6s\tremaining: 18.6s\n",
            "182:\tlearn: 1.1703926\ttotal: 35.8s\tremaining: 18.4s\n",
            "183:\tlearn: 1.1703581\ttotal: 36s\tremaining: 18.2s\n",
            "184:\tlearn: 1.1703251\ttotal: 36.2s\tremaining: 18s\n",
            "185:\tlearn: 1.1702922\ttotal: 36.3s\tremaining: 17.8s\n",
            "186:\tlearn: 1.1702608\ttotal: 36.5s\tremaining: 17.6s\n",
            "187:\tlearn: 1.1699475\ttotal: 36.7s\tremaining: 17.4s\n",
            "188:\tlearn: 1.1699128\ttotal: 36.9s\tremaining: 17.2s\n",
            "189:\tlearn: 1.1698824\ttotal: 37.1s\tremaining: 17s\n",
            "190:\tlearn: 1.1695994\ttotal: 37.3s\tremaining: 16.8s\n",
            "191:\tlearn: 1.1692624\ttotal: 37.5s\tremaining: 16.6s\n",
            "192:\tlearn: 1.1593784\ttotal: 37.7s\tremaining: 16.4s\n",
            "193:\tlearn: 1.1593131\ttotal: 37.9s\tremaining: 16.2s\n",
            "194:\tlearn: 1.1592841\ttotal: 38.1s\tremaining: 16s\n",
            "195:\tlearn: 1.1566267\ttotal: 38.3s\tremaining: 15.8s\n",
            "196:\tlearn: 1.1565887\ttotal: 38.5s\tremaining: 15.6s\n",
            "197:\tlearn: 1.1564297\ttotal: 38.7s\tremaining: 15.4s\n",
            "198:\tlearn: 1.1564021\ttotal: 38.9s\tremaining: 15.2s\n",
            "199:\tlearn: 1.1561880\ttotal: 39.1s\tremaining: 15s\n",
            "200:\tlearn: 1.1470338\ttotal: 39.3s\tremaining: 14.8s\n",
            "201:\tlearn: 1.1470069\ttotal: 39.4s\tremaining: 14.6s\n",
            "202:\tlearn: 1.1468546\ttotal: 39.6s\tremaining: 14.5s\n",
            "203:\tlearn: 1.1468282\ttotal: 39.8s\tremaining: 14.3s\n",
            "204:\tlearn: 1.1468018\ttotal: 40s\tremaining: 14.1s\n",
            "205:\tlearn: 1.1467743\ttotal: 40.2s\tremaining: 13.9s\n",
            "206:\tlearn: 1.1466321\ttotal: 40.4s\tremaining: 13.7s\n",
            "207:\tlearn: 1.1434043\ttotal: 40.6s\tremaining: 13.5s\n",
            "208:\tlearn: 1.1326835\ttotal: 40.8s\tremaining: 13.3s\n",
            "209:\tlearn: 1.1315667\ttotal: 41s\tremaining: 13.1s\n",
            "210:\tlearn: 1.1307616\ttotal: 41.2s\tremaining: 12.9s\n",
            "211:\tlearn: 1.1284226\ttotal: 41.4s\tremaining: 12.7s\n",
            "212:\tlearn: 1.1282834\ttotal: 41.6s\tremaining: 12.5s\n",
            "213:\tlearn: 1.1281061\ttotal: 41.8s\tremaining: 12.3s\n",
            "214:\tlearn: 1.1274005\ttotal: 42s\tremaining: 12.1s\n",
            "215:\tlearn: 1.1272679\ttotal: 42.2s\tremaining: 11.9s\n",
            "216:\tlearn: 1.1271364\ttotal: 42.4s\tremaining: 11.7s\n",
            "217:\tlearn: 1.1270083\ttotal: 42.6s\tremaining: 11.5s\n",
            "218:\tlearn: 1.1268818\ttotal: 42.8s\tremaining: 11.3s\n",
            "219:\tlearn: 1.1267592\ttotal: 43s\tremaining: 11.1s\n",
            "220:\tlearn: 1.1266385\ttotal: 43.2s\tremaining: 10.9s\n",
            "221:\tlearn: 1.1264857\ttotal: 43.4s\tremaining: 10.8s\n",
            "222:\tlearn: 1.1197835\ttotal: 43.6s\tremaining: 10.6s\n",
            "223:\tlearn: 1.1197578\ttotal: 43.8s\tremaining: 10.4s\n",
            "224:\tlearn: 1.1197193\ttotal: 44s\tremaining: 10.2s\n",
            "225:\tlearn: 1.1196945\ttotal: 44.2s\tremaining: 9.97s\n",
            "226:\tlearn: 1.1195803\ttotal: 44.4s\tremaining: 9.78s\n",
            "227:\tlearn: 1.1194692\ttotal: 44.6s\tremaining: 9.58s\n",
            "228:\tlearn: 1.1194415\ttotal: 44.8s\tremaining: 9.38s\n",
            "229:\tlearn: 1.1193290\ttotal: 45s\tremaining: 9.19s\n",
            "230:\tlearn: 1.1192928\ttotal: 45.2s\tremaining: 8.99s\n",
            "231:\tlearn: 1.1192674\ttotal: 45.4s\tremaining: 8.8s\n",
            "232:\tlearn: 1.1192403\ttotal: 45.6s\tremaining: 8.6s\n",
            "233:\tlearn: 1.1192179\ttotal: 45.7s\tremaining: 8.4s\n",
            "234:\tlearn: 1.1191100\ttotal: 45.9s\tremaining: 8.21s\n",
            "235:\tlearn: 1.1190024\ttotal: 46.1s\tremaining: 8.02s\n",
            "236:\tlearn: 1.1189806\ttotal: 46.2s\tremaining: 7.8s\n",
            "237:\tlearn: 1.1187420\ttotal: 46.4s\tremaining: 7.61s\n",
            "238:\tlearn: 1.1186388\ttotal: 46.6s\tremaining: 7.41s\n",
            "239:\tlearn: 1.1091474\ttotal: 46.8s\tremaining: 7.21s\n",
            "240:\tlearn: 1.1090471\ttotal: 47s\tremaining: 7.02s\n",
            "241:\tlearn: 1.1089489\ttotal: 47.2s\tremaining: 6.83s\n",
            "242:\tlearn: 1.1087979\ttotal: 47.4s\tremaining: 6.63s\n",
            "243:\tlearn: 1.1086065\ttotal: 47.6s\tremaining: 6.43s\n",
            "244:\tlearn: 1.1085074\ttotal: 47.8s\tremaining: 6.24s\n",
            "245:\tlearn: 1.1083836\ttotal: 48s\tremaining: 6.04s\n",
            "246:\tlearn: 1.1082886\ttotal: 48.2s\tremaining: 5.85s\n",
            "247:\tlearn: 1.1081951\ttotal: 48.4s\tremaining: 5.65s\n",
            "248:\tlearn: 1.1038112\ttotal: 48.5s\tremaining: 5.46s\n",
            "249:\tlearn: 1.1036255\ttotal: 48.7s\tremaining: 5.26s\n",
            "250:\tlearn: 1.1017856\ttotal: 48.9s\tremaining: 5.07s\n",
            "251:\tlearn: 1.1016937\ttotal: 49.1s\tremaining: 4.88s\n",
            "252:\tlearn: 1.0996543\ttotal: 49.3s\tremaining: 4.68s\n",
            "253:\tlearn: 1.0890587\ttotal: 49.5s\tremaining: 4.49s\n",
            "254:\tlearn: 1.0885730\ttotal: 49.7s\tremaining: 4.29s\n",
            "255:\tlearn: 1.0876674\ttotal: 49.9s\tremaining: 4.09s\n",
            "256:\tlearn: 1.0859479\ttotal: 50.1s\tremaining: 3.9s\n",
            "257:\tlearn: 1.0858701\ttotal: 50.3s\tremaining: 3.71s\n",
            "258:\tlearn: 1.0857908\ttotal: 50.5s\tremaining: 3.51s\n",
            "259:\tlearn: 1.0828965\ttotal: 50.7s\tremaining: 3.32s\n",
            "260:\tlearn: 1.0817893\ttotal: 50.9s\tremaining: 3.12s\n",
            "261:\tlearn: 1.0811586\ttotal: 51.1s\tremaining: 2.93s\n",
            "262:\tlearn: 1.0783550\ttotal: 51.3s\tremaining: 2.73s\n",
            "263:\tlearn: 1.0779727\ttotal: 51.5s\tremaining: 2.54s\n",
            "264:\tlearn: 1.0779215\ttotal: 51.7s\tremaining: 2.34s\n",
            "265:\tlearn: 1.0778269\ttotal: 51.9s\tremaining: 2.15s\n",
            "266:\tlearn: 1.0777799\ttotal: 52.1s\tremaining: 1.95s\n",
            "267:\tlearn: 1.0764046\ttotal: 52.3s\tremaining: 1.76s\n",
            "268:\tlearn: 1.0763293\ttotal: 52.5s\tremaining: 1.56s\n",
            "269:\tlearn: 1.0763003\ttotal: 52.7s\tremaining: 1.36s\n",
            "270:\tlearn: 1.0668750\ttotal: 52.9s\tremaining: 1.17s\n",
            "271:\tlearn: 1.0667999\ttotal: 53.1s\tremaining: 975ms\n",
            "272:\tlearn: 1.0667549\ttotal: 53.3s\tremaining: 781ms\n",
            "273:\tlearn: 1.0634284\ttotal: 53.5s\tremaining: 585ms\n",
            "274:\tlearn: 1.0571693\ttotal: 53.7s\tremaining: 390ms\n",
            "275:\tlearn: 1.0571490\ttotal: 53.9s\tremaining: 195ms\n",
            "276:\tlearn: 1.0569669\ttotal: 54.1s\tremaining: 0us\n"
          ]
        }
      ]
    },
    {
      "cell_type": "code",
      "source": [
        "# pred_gb_Y_06 = gbr_Y_06.predict(test_x)\n",
        "# pred_xgb_Y_06 = xgb_Y_06.predict(test_x)\n",
        "pred_lgb_Y_06 = lightgbm_Y_06.predict(test_x)\n",
        "pred_cat_Y_06 = catboost_Y_06.predict(test_x)"
      ],
      "metadata": {
        "id": "OEB_gejdkqi7"
      },
      "execution_count": null,
      "outputs": []
    },
    {
      "cell_type": "code",
      "source": [
        "pred_Y_06_ensemble =  pred_lgb_Y_06*0.4 + pred_cat_Y_06*0.6"
      ],
      "metadata": {
        "id": "YmhYssf8kqi8"
      },
      "execution_count": null,
      "outputs": []
    },
    {
      "cell_type": "code",
      "source": [
        "sample_submission['Y_06'] = pred_Y_06_ensemble"
      ],
      "metadata": {
        "id": "M-JxWClrkqi8"
      },
      "execution_count": null,
      "outputs": []
    },
    {
      "cell_type": "markdown",
      "source": [
        "## Y_07"
      ],
      "metadata": {
        "id": "IIIcUKPTyIR1"
      }
    },
    {
      "cell_type": "code",
      "source": [
        "lightgbm_Y_07 = lgb.LGBMRegressor(bagging_fraction=0.838287407091275, bagging_freq=0,\n",
        "              feature_fraction=0.8676948933076764,\n",
        "              learning_rate=0.01545432563662372, min_child_samples=33,\n",
        "              min_split_gain=0.13116484702947007, n_estimators=233,\n",
        "              num_leaves=181, random_state=42, reg_alpha=2.42986213512713e-05,\n",
        "              reg_lambda=1.7260007776053446e-05).fit(train_x,train_y['Y_07'])"
      ],
      "metadata": {
        "id": "nRHeHnjwyIR2"
      },
      "execution_count": null,
      "outputs": []
    },
    {
      "cell_type": "code",
      "source": [
        "xgb_Y_07 = BaggingRegressor(base_estimator=XGBRegressor(base_score=0.5, booster='gbtree',\n",
        "                                             colsample_bylevel=1,\n",
        "                                             colsample_bynode=1,\n",
        "                                             colsample_bytree=0.9090073829612466,\n",
        "                                             gamma=0, \n",
        "                                             importance_type='gain',\n",
        "                                             interaction_constraints='',\n",
        "                                             learning_rate=0.080404022381391,\n",
        "                                             max_delta_step=0, max_depth=1,\n",
        "                                             min_child_weight=3,\n",
        "                                             n_estimators=131, n_jobs=-1,\n",
        "                                             num_parallel_tree=1,\n",
        "                                             random_state=42,\n",
        "                                             reg_alpha=2.774507576975746e-08,\n",
        "                                             reg_lambda=2.082183691907341e-09,\n",
        "                                             scale_pos_weight=17.54314339877777,\n",
        "                                             subsample=0.9543277631300153,\n",
        "                                             tree_method='auto',\n",
        "                                             validate_parameters=1,\n",
        "                                             verbosity=0),n_estimators=30, random_state=42).fit(train_x,train_y['Y_07'])"
      ],
      "metadata": {
        "id": "RGAi4BD5yIR4"
      },
      "execution_count": null,
      "outputs": []
    },
    {
      "cell_type": "code",
      "source": [
        "gbr_Y_07 = GradientBoostingRegressor(learning_rate=0.01025071605101497, max_depth=11,\n",
        "                          max_features=0.9584256172822183,\n",
        "                          min_impurity_decrease=1.7165270372995716e-09,\n",
        "                          min_samples_leaf=5, min_samples_split=9,\n",
        "                          n_estimators=251, random_state=42,\n",
        "                          subsample=0.5868763275242731).fit(train_x,train_y['Y_07'])"
      ],
      "metadata": {
        "id": "qDksqnUgyIR4"
      },
      "execution_count": null,
      "outputs": []
    },
    {
      "cell_type": "code",
      "source": [
        "catboost_Y_07 = BaggingRegressor(base_estimator=CatBoostRegressor(depth= 10,\n",
        " l2_leaf_reg= 102,\n",
        " loss_function= 'RMSE',\n",
        " border_count= 254,\n",
        " verbose= False,\n",
        " random_strength= 0.5381601680403292,\n",
        " n_estimators= 254,\n",
        " random_state= 42,\n",
        " eta= 0.1252529497263127),\n",
        " bootstrap= True,\n",
        " bootstrap_features= False,\n",
        " max_features= 1.0,\n",
        " max_samples= 1.0,\n",
        " n_estimators= 30,\n",
        " n_jobs= 1,\n",
        " oob_score= False,\n",
        " random_state= 42,\n",
        " verbose= 0,\n",
        " warm_start= False).fit(train_x,train_y['Y_07'])"
      ],
      "metadata": {
        "id": "NJRTHsfRyIR4"
      },
      "execution_count": null,
      "outputs": []
    },
    {
      "cell_type": "code",
      "source": [
        "pred_gb_Y_07 = gbr_Y_07.predict(test_x)\n",
        "#pred_xgb_Y_07 = xgb_Y_07.predict(test_x)\n",
        "pred_lgb_Y_07 = lightgbm_Y_07.predict(test_x)\n",
        "#pred_cat_Y_07 = catboost_Y_07.predict(test_x)"
      ],
      "metadata": {
        "id": "wuoKZvQkyIR5"
      },
      "execution_count": null,
      "outputs": []
    },
    {
      "cell_type": "code",
      "source": [
        "pred_Y_07_ensemble =  pred_gb_Y_07*0.3 + pred_lgb_Y_07*0.7"
      ],
      "metadata": {
        "id": "TK19kwN7yIR5"
      },
      "execution_count": null,
      "outputs": []
    },
    {
      "cell_type": "code",
      "source": [
        "sample_submission['Y_07'] = pred_Y_07_ensemble"
      ],
      "metadata": {
        "id": "UzAcfPJiyIR5"
      },
      "execution_count": null,
      "outputs": []
    },
    {
      "cell_type": "markdown",
      "source": [
        "## Y_08"
      ],
      "metadata": {
        "id": "x8mtCwNej86W"
      }
    },
    {
      "cell_type": "code",
      "source": [
        "lightgbm_Y_08 = lgb. LGBMRegressor(bagging_fraction=0.9699083434585961, bagging_freq=6,\n",
        "              feature_fraction=0.4962524707401136,\n",
        "              learning_rate=0.019402617789498314, min_child_samples=30,\n",
        "              min_split_gain=0.2987415736694793, n_estimators=300,\n",
        "              num_leaves=151, random_state=42, reg_alpha=1.5213394690434816,\n",
        "              reg_lambda=0.00013304046059925623).fit(train_x,train_y['Y_08'])"
      ],
      "metadata": {
        "id": "OmOfSD9wj86x"
      },
      "execution_count": null,
      "outputs": []
    },
    {
      "cell_type": "code",
      "source": [
        "xgb_Y_08 = XGBRegressor(base_score=0.5, booster='gbtree', colsample_bylevel=1,\n",
        "             colsample_bynode=1, colsample_bytree=0.7616586588644908, gamma=0,\n",
        "             importance_type='gain', interaction_constraints='',\n",
        "             learning_rate=0.030051429007604148, max_delta_step=0, max_depth=4,\n",
        "             min_child_weight=4,\n",
        "             n_estimators=289, n_jobs=-1, num_parallel_tree=1, random_state=42,\n",
        "             reg_alpha=1.1746549401580202e-10,\n",
        "             reg_lambda=3.4997739011325505e-07,\n",
        "             scale_pos_weight=28.339652964857382, subsample=0.7199764850350032,\n",
        "             tree_method='auto', validate_parameters=1, verbosity=0).fit(train_x,train_y['Y_08'])"
      ],
      "metadata": {
        "id": "68X8f8M8j86z"
      },
      "execution_count": null,
      "outputs": []
    },
    {
      "cell_type": "code",
      "source": [
        "gbr_Y_08 = GradientBoostingRegressor(learning_rate=0.03001726813934206, max_depth=11,\n",
        "                          max_features=0.43741151687761776,\n",
        "                          min_impurity_decrease=0.1308799784233315,\n",
        "                          min_samples_leaf=3, min_samples_split=6,\n",
        "                          random_state=42, subsample=0.8082785040960712).fit(train_x,train_y['Y_08'])"
      ],
      "metadata": {
        "id": "lx6o_Asfj860"
      },
      "execution_count": null,
      "outputs": []
    },
    {
      "cell_type": "code",
      "source": [
        "catboost_Y_08 = CatBoostRegressor(depth= 9, l2_leaf_reg= 132,loss_function='RMSE',border_count= 254, verbose = False,\n",
        "random_strength = 0.047639310090865764, task_type='CPU', n_estimators= 111, random_state= 42,eta= 0.19044602883699066).fit(train_x,train_y['Y_08'])"
      ],
      "metadata": {
        "id": "9vygQlVzj860"
      },
      "execution_count": null,
      "outputs": []
    },
    {
      "cell_type": "code",
      "source": [
        "rf_Y_08 = RandomForestRegressor(n_estimators = 1000, max_features = 'auto', \n",
        "                            min_samples_split = 100, bootstrap = True,\n",
        "                            max_depth = 20, \n",
        "                            max_samples = 1,\n",
        "                            min_samples_leaf = 16).fit(train_x,train_y['Y_08'])"
      ],
      "metadata": {
        "id": "B7bacOXdb75u"
      },
      "execution_count": null,
      "outputs": []
    },
    {
      "cell_type": "code",
      "source": [
        "pred_gb_Y_08 = gbr_Y_08.predict(test_x)\n",
        "#pred_xgb_Y_08 = xgb_Y_08.predict(test_x)\n",
        "pred_lgb_Y_08 = lightgbm_Y_08.predict(test_x)\n",
        "#pred_cat_Y_08 = catboost_Y_08.predict(test_x)\n",
        "pred_rf_Y_08 = rf_Y_08.predict(test_x)"
      ],
      "metadata": {
        "id": "OZXjy6Ajj861"
      },
      "execution_count": null,
      "outputs": []
    },
    {
      "cell_type": "code",
      "source": [
        "pred_Y_08_ensemble = pred_gb_Y_08*0.2 + pred_lgb_Y_08*0.6 + pred_rf_Y_08*0.2"
      ],
      "metadata": {
        "id": "iYZwLSVSj861"
      },
      "execution_count": null,
      "outputs": []
    },
    {
      "cell_type": "code",
      "source": [
        "sample_submission['Y_08'] = pred_Y_08_ensemble"
      ],
      "metadata": {
        "id": "ZeD5PpvZj861"
      },
      "execution_count": null,
      "outputs": []
    },
    {
      "cell_type": "markdown",
      "source": [
        "## Y_09"
      ],
      "metadata": {
        "id": "6bYTQsS7jSob"
      }
    },
    {
      "cell_type": "code",
      "source": [
        "lightgbm_Y_09 = lgb.LGBMRegressor(bagging_fraction=0.847529712693275, bagging_freq=3,\n",
        "              feature_fraction=0.4837674943957988,\n",
        "              learning_rate=0.011288169616087126, min_child_samples=47,\n",
        "              min_split_gain=0.7969668112627418, n_estimators=297,\n",
        "              num_leaves=252, random_state=42, reg_alpha=3.4116973247692774e-05,\n",
        "              reg_lambda=0.0006068803104015331).fit(train_x,train_y['Y_09'])"
      ],
      "metadata": {
        "id": "OQ_Z42fAjSob"
      },
      "execution_count": null,
      "outputs": []
    },
    {
      "cell_type": "code",
      "source": [
        "xgb_Y_09 = XGBRegressor(base_score=0.5, booster='gbtree', colsample_bylevel=1,\n",
        "             colsample_bynode=1, colsample_bytree=0.8386343579954545, gamma=0,\n",
        "             importance_type='gain', interaction_constraints='',\n",
        "             learning_rate=0.05230531673933179, max_delta_step=0, max_depth=8,\n",
        "             min_child_weight=4,\n",
        "             n_estimators=118, n_jobs=-1, num_parallel_tree=1, random_state=42,\n",
        "             reg_alpha=3.9707140325892785, reg_lambda=1.3148500136982597,\n",
        "             scale_pos_weight=44.76691454427343, subsample=0.3119106694940679,\n",
        "             tree_method='auto', validate_parameters=1, verbosity=0).fit(train_x,train_y['Y_09'])"
      ],
      "metadata": {
        "id": "-Ii_lUYgjSoc"
      },
      "execution_count": null,
      "outputs": []
    },
    {
      "cell_type": "code",
      "source": [
        "gbr_Y_09 = GradientBoostingRegressor(learning_rate=0.013140069670011975, max_depth=9,\n",
        "                          max_features=0.6818838242801941,\n",
        "                          min_impurity_decrease=8.670784876694156e-08,\n",
        "                          min_samples_leaf=2, min_samples_split=3,\n",
        "                          n_estimators=272, random_state=42,\n",
        "                          subsample=0.5480888678452744).fit(train_x,train_y['Y_09'])"
      ],
      "metadata": {
        "id": "jbihDVkfjSoc"
      },
      "execution_count": null,
      "outputs": []
    },
    {
      "cell_type": "code",
      "source": [
        "catboost_Y_09 = CatBoostRegressor(nan_mode= 'Min',\n",
        " eval_metric= 'RMSE',\n",
        " iterations= 1000,\n",
        " sampling_frequency= 'PerTree',\n",
        " leaf_estimation_method= 'Newton',\n",
        " grow_policy ='SymmetricTree',\n",
        " penalties_coefficient= 1,\n",
        " boosting_type= 'Plain',\n",
        " model_shrink_mode= 'Constant',\n",
        " feature_border_type= 'GreedyLogSum',\n",
        " l2_leaf_reg= 3,\n",
        " random_strength= 1,\n",
        " rsm= 1,\n",
        " boost_from_average= True,\n",
        " model_size_reg= 0.5,\n",
        " subsample= 0.800000011920929,\n",
        " use_best_model= False,\n",
        " random_seed= 42,\n",
        " depth= 6,\n",
        " posterior_sampling= False,\n",
        " border_count= 254,\n",
        " sparse_features_conflict_fraction= 0,\n",
        " leaf_estimation_backtracking= 'AnyImprovement',\n",
        " best_model_min_trees= 1,\n",
        " model_shrink_rate= 0,\n",
        " min_data_in_leaf= 1,\n",
        " loss_function= 'RMSE',\n",
        " learning_rate= 0.06920699775218964,\n",
        " score_function= 'Cosine',\n",
        " task_type= 'CPU',\n",
        " leaf_estimation_iterations= 1,\n",
        " bootstrap_type= 'MVS',\n",
        " max_leaves= 64).fit(train_x,train_y['Y_09'])"
      ],
      "metadata": {
        "id": "KXN6rVh4jSoc"
      },
      "execution_count": null,
      "outputs": []
    },
    {
      "cell_type": "code",
      "source": [
        "rf_Y_09 = RandomForestRegressor(n_estimators = 1000, max_features = 'auto', \n",
        "                            min_samples_split = 100, bootstrap = True,\n",
        "                            max_depth = 20, \n",
        "                            max_samples = 1,n_bins =256, n_streams = 8,\n",
        "                            min_samples_leaf = 20).fit(train_x,train_y['Y_09'])"
      ],
      "metadata": {
        "id": "P6-pG7J_bfaw"
      },
      "execution_count": null,
      "outputs": []
    },
    {
      "cell_type": "code",
      "source": [
        "pred_gb_Y_09 = gbr_Y_09.predict(test_x)\n",
        "# pred_xgb_Y_09 = xgb_Y_09.predict(test_x)\n",
        "pred_lgb_Y_09 = lightgbm_Y_09.predict(test_x)\n",
        "# pred_cat_Y_09 = catboost_Y_09.predict(test_x)\n",
        "# pred_rf_Y_09 = rf_Y_09.predict(test_x)"
      ],
      "metadata": {
        "id": "05fOTv7GjSod"
      },
      "execution_count": null,
      "outputs": []
    },
    {
      "cell_type": "code",
      "source": [
        "pred_Y_09_ensemble =  pred_gb_Y_09*0.1 + pred_lgb_Y_09*0.9"
      ],
      "metadata": {
        "id": "PHAUcK63jSod"
      },
      "execution_count": null,
      "outputs": []
    },
    {
      "cell_type": "code",
      "source": [
        "sample_submission['Y_09'] = pred_Y_09_ensemble"
      ],
      "metadata": {
        "id": "VH7Brz6PjSod"
      },
      "execution_count": null,
      "outputs": []
    },
    {
      "cell_type": "markdown",
      "source": [
        "## Y_10"
      ],
      "metadata": {
        "id": "Ul3CxmOriEpa"
      }
    },
    {
      "cell_type": "code",
      "source": [
        "lightgbm_Y_10 = lgb.LGBMRegressor(bagging_fraction=0.4, bagging_freq=0, feature_fraction=0.4,\t\t\t\t\t\t\t\n",
        "              learning_rate=0.016937232133213884, min_child_samples=25,\t\t\t\t\t\t\t\n",
        "              n_estimators=300, num_leaves=148, random_state=42,\t\t\t\t\t\t\t\n",
        "              reg_alpha=5.405882409074974e-07, reg_lambda=10.0).fit(train_x,train_y['Y_10'])"
      ],
      "metadata": {
        "id": "ZMZqoleriEpc"
      },
      "execution_count": null,
      "outputs": []
    },
    {
      "cell_type": "code",
      "source": [
        "xgb_Y_10 = XGBRegressor(base_score=0.5, booster='gbtree', colsample_bylevel=1,\n",
        "             colsample_bynode=1, colsample_bytree=0.567297632104587, gamma=0,\n",
        "             importance_type='gain', interaction_constraints='',\n",
        "             learning_rate=0.03286530816784422, max_delta_step=0, max_depth=11,\n",
        "             min_child_weight=4,\n",
        "             n_estimators=168, n_jobs=-1, num_parallel_tree=1, random_state=42,\n",
        "             reg_alpha=1.4997413758623726e-08, reg_lambda=1e-10,\n",
        "             scale_pos_weight=1.0, subsample=1.0, tree_method='auto',\n",
        "             validate_parameters=1, verbosity=0).fit(train_x,train_y['Y_10'])"
      ],
      "metadata": {
        "id": "TupAI3eJiEpc"
      },
      "execution_count": null,
      "outputs": []
    },
    {
      "cell_type": "code",
      "source": [
        "gbr_Y_10 =  GradientBoostingRegressor(learning_rate=0.03728846132297749, max_depth=8,\n",
        "                          max_features=0.5835554838846452,\n",
        "                          min_impurity_decrease=0.0003259794045036959,\n",
        "                          min_samples_leaf=4, min_samples_split=10,\n",
        "                          random_state=42, subsample=0.9592912790914383).fit(train_x,train_y['Y_10'])"
      ],
      "metadata": {
        "id": "PSk35izaiEpe"
      },
      "execution_count": null,
      "outputs": []
    },
    {
      "cell_type": "code",
      "source": [
        "catboost_Y_10 = CatBoostRegressor(loss_function= 'RMSE',\n",
        " border_count= 254,\n",
        " verbose= False,\n",
        " task_type= 'CPU',\n",
        " random_state= 42).fit(train_x,train_y['Y_10'])"
      ],
      "metadata": {
        "id": "-2h9CEp0iEpe"
      },
      "execution_count": null,
      "outputs": []
    },
    {
      "cell_type": "code",
      "source": [
        "rf_Y_10 = RandomForestRegressor(n_estimators = 1000, max_features = 'auto', \n",
        "                            min_samples_split = 20, bootstrap = True,\n",
        "                            max_depth = 16, \n",
        "                            max_samples = 1,n_bins =64, n_streams = 4,\n",
        "                            min_samples_leaf = 16).fit(train_x,train_y['Y_10'])"
      ],
      "metadata": {
        "id": "o5MhgLbhbO6v"
      },
      "execution_count": null,
      "outputs": []
    },
    {
      "cell_type": "code",
      "source": [
        "# pred_gb_Y_10 = gbr_Y_10.predict(test_x)\n",
        "pred_xgb_Y_10 = xgb_Y_10.predict(test_x)\n",
        "pred_lgb_Y_10 = lightgbm_Y_10.predict(test_x)\n",
        "pred_cat_Y_10 = catboost_Y_10.predict(test_x)\n",
        "#pred_rf_Y_10 = rf_Y_10.predict(test_x)"
      ],
      "metadata": {
        "id": "0EvI_LBRiEpf"
      },
      "execution_count": null,
      "outputs": []
    },
    {
      "cell_type": "code",
      "source": [
        "pred_Y_10_ensemble =  pred_xgb_Y_10*0.2 + pred_lgb_Y_10*0.7 + pred_cat_Y_10*0.1"
      ],
      "metadata": {
        "id": "YUMU9CemiEpg"
      },
      "execution_count": null,
      "outputs": []
    },
    {
      "cell_type": "code",
      "source": [
        "sample_submission['Y_10'] = pred_Y_10_ensemble"
      ],
      "metadata": {
        "id": "__Y3OVHGiEpg"
      },
      "execution_count": null,
      "outputs": []
    },
    {
      "cell_type": "markdown",
      "source": [
        "## Y_11"
      ],
      "metadata": {
        "id": "iUovN0N7hgh4"
      }
    },
    {
      "cell_type": "code",
      "source": [
        "lightgbm_Y_11 = LGBMRegressor(bagging_fraction=0.8113283298264667, bagging_freq=3,\n",
        "              feature_fraction=0.4756162193937983,\n",
        "              learning_rate=0.02649749254706113, min_child_samples=55,\n",
        "              min_split_gain=0.21623426116682082, n_estimators=168,\n",
        "              num_leaves=229, random_state=42, reg_alpha=0.0002061574574317737,\n",
        "              reg_lambda=2.9345383986078057).fit(train_x,train_y['Y_11'])"
      ],
      "metadata": {
        "id": "AyLo2B9ghgiB"
      },
      "execution_count": null,
      "outputs": []
    },
    {
      "cell_type": "code",
      "source": [
        "xgb_Y_11 = XGBRegressor(base_score=0.5, booster='gbtree', colsample_bylevel=1,\n",
        "             colsample_bynode=1, colsample_bytree=0.5862938672993847, gamma=0,\n",
        "             gpu_id=0, importance_type='gain', interaction_constraints='',\n",
        "             learning_rate=0.08642088399402323, max_delta_step=0, max_depth=3,\n",
        "             min_child_weight=1,\n",
        "             n_estimators=232, n_jobs=-1, num_parallel_tree=1, random_state=42,\n",
        "             reg_alpha=4.1088049949702336e-07, reg_lambda=9.091981906252093,\n",
        "             scale_pos_weight=48.88288898839123, subsample=0.6687637979858317,\n",
        "            validate_parameters=1, verbosity=0).fit(train_x,train_y['Y_11'])"
      ],
      "metadata": {
        "id": "zhc1pho5hgiB"
      },
      "execution_count": null,
      "outputs": []
    },
    {
      "cell_type": "code",
      "source": [
        "gbr_Y_11 = GradientBoostingRegressor(learning_rate=0.011566390954303105, max_depth=11,\n",
        "                          max_features=0.9041549708966354,\n",
        "                          min_impurity_decrease=9.415107773747543e-06,\n",
        "                          min_samples_leaf=4, n_estimators=206, random_state=42,\n",
        "                          subsample=0.6049198426048275).fit(train_x,train_y['Y_11'])"
      ],
      "metadata": {
        "id": "5A4gNWf_hgiB"
      },
      "execution_count": null,
      "outputs": []
    },
    {
      "cell_type": "code",
      "source": [
        "catboost_Y_11 = BaggingRegressor(base_estimator= CatBoostRegressor(depth =  7,\n",
        " l2_leaf_reg =  9,\n",
        " loss_function =  'RMSE',\n",
        " border_count =  254,\n",
        " verbose =  False,\n",
        " random_strength =  0.23028936602081082,\n",
        " task_type =  'CPU',\n",
        " n_estimators =  186,\n",
        " random_state =  42,\n",
        " eta =  0.10548240014937499),\n",
        " bootstrap = True,\n",
        " bootstrap_features = False,\n",
        " max_features = 1.0,\n",
        " max_samples = 1.0,\n",
        " n_jobs = 1,\n",
        " oob_score = False,\n",
        " random_state = 42,\n",
        " verbose = 0,\n",
        " n_estimators = 30,\n",
        " warm_start = False).fit(train_x,train_y['Y_11'])"
      ],
      "metadata": {
        "id": "621lUekqhgiC"
      },
      "execution_count": null,
      "outputs": []
    },
    {
      "cell_type": "code",
      "source": [
        "rf_Y_11 = RandomForestRegressor(n_estimators = 1000, max_features = 'auto', \n",
        "                            min_samples_split = 100, bootstrap = True,\n",
        "                            max_depth = 20, \n",
        "                            max_samples = 1,n_bins =128, n_streams = 4,\n",
        "                            min_samples_leaf = 25).fit(train_x,train_y['Y_11'])"
      ],
      "metadata": {
        "id": "0U2h0ksCa2hi"
      },
      "execution_count": null,
      "outputs": []
    },
    {
      "cell_type": "code",
      "source": [
        "pred_gb_Y_11 = gbr_Y_11.predict(test_x)\n",
        "# pred_xgb_Y_11 = xgb_Y_11.predict(test_x)\n",
        "pred_lgb_Y_11 = lightgbm_Y_11.predict(test_x)\n",
        "# pred_cat_Y_11 = catboost_Y_11.predict(test_x)\n",
        "pred_rf_Y_11 = rf_Y_11.predict(test_x)"
      ],
      "metadata": {
        "id": "tpUfTK1ZhgiC"
      },
      "execution_count": null,
      "outputs": []
    },
    {
      "cell_type": "code",
      "source": [
        "pred_Y_11_ensemble =  pred_gb_Y_11*0.1 + pred_lgb_Y_11*0.8 + pred_rf_Y_11*0.1"
      ],
      "metadata": {
        "id": "mr7np29ihgiC"
      },
      "execution_count": null,
      "outputs": []
    },
    {
      "cell_type": "code",
      "source": [
        "sample_submission['Y_11'] = pred_Y_11_ensemble"
      ],
      "metadata": {
        "id": "asdkza7jhgiC"
      },
      "execution_count": null,
      "outputs": []
    },
    {
      "cell_type": "markdown",
      "source": [
        "## Y_12"
      ],
      "metadata": {
        "id": "qOFLL-jig1RP"
      }
    },
    {
      "cell_type": "code",
      "source": [
        "lightgbm_Y_12 = lgb.LGBMRegressor(bagging_fraction=0.7308876198885925, bagging_freq=0,\t\t\t\t\t\t\n",
        "              feature_fraction=0.5343591110601751,\t\t\t\t\t\t\n",
        "              learning_rate=0.021772535138333004, min_child_samples=49,\t\t\t\t\t\t\n",
        "              min_split_gain=0.4979301715911596, n_estimators=250,\t\t\t\t\t\t\n",
        "              num_leaves=215, random_state=42, reg_alpha=0.00039646806445988895,\t\t\t\t\t\t\n",
        "              reg_lambda=0.0003866970843679147)\t.fit(train_x,train_y['Y_12'])"
      ],
      "metadata": {
        "id": "PobtghaLg1RW"
      },
      "execution_count": null,
      "outputs": []
    },
    {
      "cell_type": "code",
      "source": [
        "xgb_Y_12 = XGBRegressor(base_score=0.5, booster='gbtree', colsample_bylevel=1,\n",
        "             colsample_bynode=1, colsample_bytree=0.5862938672993847, gamma=0,\n",
        "            importance_type='gain', interaction_constraints='',\n",
        "             learning_rate=0.08642088399402323, max_delta_step=0, max_depth=3,\n",
        "             min_child_weight=1,\n",
        "             n_estimators=232, n_jobs=-1, num_parallel_tree=1, random_state=42,\n",
        "             reg_alpha=4.1088049949702336e-07, reg_lambda=9.091981906252093,\n",
        "             scale_pos_weight=48.88288898839123, subsample=0.6687637979858317,\n",
        "              validate_parameters=1, verbosity=0).fit(train_x,train_y['Y_12'])"
      ],
      "metadata": {
        "id": "_nW3cBusg1RX"
      },
      "execution_count": null,
      "outputs": []
    },
    {
      "cell_type": "code",
      "source": [
        "gbr_Y_12 = GradientBoostingRegressor(learning_rate=0.03854796434033087, max_depth=9,\n",
        "                          max_features=0.8373237445893021,\n",
        "                          min_impurity_decrease=0.44778865969295006,\n",
        "                          min_samples_leaf=2, min_samples_split=7,\n",
        "                          random_state=42, subsample=0.7519692756498256).fit(train_x,train_y['Y_12'])"
      ],
      "metadata": {
        "id": "OzklMQ5eg1RX"
      },
      "execution_count": null,
      "outputs": []
    },
    {
      "cell_type": "code",
      "source": [
        "catboost_Y_12 =CatBoostRegressor(depth= 11,\n",
        " l2_leaf_reg= 1,\n",
        " loss_function= 'RMSE',\n",
        " border_count= 254,\n",
        " verbose= False,\n",
        " random_strength= 0.12088734224551677,\n",
        " task_type= 'CPU',\n",
        " n_estimators= 300,\n",
        " random_state= 42,\n",
        " eta= 0.022541488999505567).fit(train_x,train_y['Y_12'])"
      ],
      "metadata": {
        "id": "XQq1gl11g1RX"
      },
      "execution_count": null,
      "outputs": []
    },
    {
      "cell_type": "code",
      "source": [
        "rf_Y_12 = RandomForestRegressor(n_estimators = 1000, max_features = 'auto', \n",
        "                            min_samples_split = 50, bootstrap = True,\n",
        "                            max_depth = 30, \n",
        "                            max_samples = 1,n_bins =128, n_streams = 8,\n",
        "                            min_samples_leaf = 16).fit(train_x,train_y['Y_12'])"
      ],
      "metadata": {
        "id": "4zB6FTY7ahsh"
      },
      "execution_count": null,
      "outputs": []
    },
    {
      "cell_type": "code",
      "source": [
        "pred_gb_Y_12 = gbr_Y_12.predict(test_x)\n",
        "#pred_xgb_Y_12 = xgb_Y_12.predict(test_x)\n",
        "pred_lgb_Y_12 = lightgbm_Y_12.predict(test_x)\n",
        "# pred_cat_Y_12 = catboost_Y_12.predict(test_x)\n",
        "pred_rf_Y_12 = rf_Y_12.predict(test_x)"
      ],
      "metadata": {
        "id": "61kZgE76g1RY"
      },
      "execution_count": null,
      "outputs": []
    },
    {
      "cell_type": "code",
      "source": [
        "pred_Y_12_ensemble =  pred_gb_Y_12*0.4 +  pred_lgb_Y_12*0.3 + pred_rf_Y_12*0.3"
      ],
      "metadata": {
        "id": "i3wmO4Meg1RY"
      },
      "execution_count": null,
      "outputs": []
    },
    {
      "cell_type": "code",
      "source": [
        "sample_submission['Y_12'] = pred_Y_12_ensemble"
      ],
      "metadata": {
        "id": "M4MW7A6gg1RY"
      },
      "execution_count": null,
      "outputs": []
    },
    {
      "cell_type": "markdown",
      "source": [
        "## Y_13"
      ],
      "metadata": {
        "id": "86lx3eaUs9gg"
      }
    },
    {
      "cell_type": "code",
      "source": [
        "lightgbm_Y_13 = lgb.LGBMRegressor(bagging_fraction=0.562177058115405, bagging_freq=0,\n",
        "              feature_fraction=0.9023546637887719,\n",
        "              learning_rate=0.01637180684883515, min_child_samples=52,\n",
        "              min_split_gain=0.5525322291188884, n_estimators=234,\n",
        "              num_leaves=196, random_state=42, reg_alpha=2.1036670016919905e-10,\n",
        "              reg_lambda=2.9600855173354055).fit(train_x,train_y['Y_13'])"
      ],
      "metadata": {
        "id": "zL2lQ9U2s9gh"
      },
      "execution_count": null,
      "outputs": []
    },
    {
      "cell_type": "code",
      "source": [
        "xgb_Y_13 = XGBRegressor(base_score=0.5, booster='gbtree', colsample_bylevel=1,\n",
        "             colsample_bynode=1, colsample_bytree=0.7781793006393881, gamma=0,\n",
        "             importance_type='gain', interaction_constraints='',\n",
        "             learning_rate=0.11079581903277634, max_delta_step=0, max_depth=3,\n",
        "             min_child_weight=2,\n",
        "             n_estimators=214, n_jobs=-1, num_parallel_tree=1, random_state=42,\n",
        "             reg_alpha=1.9612752633971965e-06, reg_lambda=0.005923918160674718,\n",
        "             scale_pos_weight=1.830823844017683, subsample=0.8587829049947746,\n",
        "             tree_method='auto', validate_parameters=1, verbosity=0).fit(train_x,train_y['Y_13'])"
      ],
      "metadata": {
        "id": "SVpEjXpvs9gk"
      },
      "execution_count": null,
      "outputs": []
    },
    {
      "cell_type": "code",
      "source": [
        "gbr_Y_13 = GradientBoostingRegressor(learning_rate=0.03854796434033087, max_depth=9,\n",
        "                          max_features=0.8373237445893021,\n",
        "                          min_impurity_decrease=0.44778865969295006,\n",
        "                          min_samples_leaf=2, min_samples_split=7,\n",
        "                          random_state=42, subsample=0.7519692756498256).fit(train_x,train_y['Y_13'])"
      ],
      "metadata": {
        "id": "KVTVS54cs9gk"
      },
      "execution_count": null,
      "outputs": []
    },
    {
      "cell_type": "code",
      "source": [
        "catboost_Y_13 = CatBoostRegressor(depth = 11,\n",
        " l2_leaf_reg = 2,\n",
        " loss_function = 'RMSE',\n",
        " border_count = 254,\n",
        " verbose = False,\n",
        " random_strength = 0.08437286101356153,\n",
        " task_type = 'CPU',\n",
        " n_estimators = 300,\n",
        " random_state = 42,\n",
        " eta = 0.03180487549163332).fit(train_x,train_y['Y_13'])"
      ],
      "metadata": {
        "id": "Dih6s5Zks9gl"
      },
      "execution_count": null,
      "outputs": []
    },
    {
      "cell_type": "code",
      "source": [
        "rf_Y_13 = RandomForestRegressor(n_estimators = 1000, max_features = 'auto', \n",
        "                            min_samples_split = 100, bootstrap = True,\n",
        "                            max_depth = 20, \n",
        "                            max_samples = 1,n_bins =128, n_streams = 2,\n",
        "                            min_samples_leaf = 20).fit(train_x,train_y['Y_13'])"
      ],
      "metadata": {
        "id": "aYD99SEzaVLj"
      },
      "execution_count": null,
      "outputs": []
    },
    {
      "cell_type": "code",
      "source": [
        "pred_gb_Y_13 = gbr_Y_13.predict(test_x)\n",
        "# pred_xgb_Y_13 = xgb_Y_13.predict(test_x)\n",
        "pred_lgb_Y_13 = lightgbm_Y_13.predict(test_x)\n",
        "pred_cat_Y_13 = catboost_Y_13.predict(test_x)\n",
        "pred_rf_Y_13 = rf_Y_13.predict(test_x)"
      ],
      "metadata": {
        "id": "j44UbvRXs9gl"
      },
      "execution_count": null,
      "outputs": []
    },
    {
      "cell_type": "code",
      "source": [
        "pred_Y_13_ensemble = pred_gb_Y_13*0.1 +pred_lgb_Y_13*0.5 + pred_cat_Y_13*0.2 + pred_rf_Y_13*0.2"
      ],
      "metadata": {
        "id": "zJFMiSBMgU0p"
      },
      "execution_count": null,
      "outputs": []
    },
    {
      "cell_type": "code",
      "source": [
        "sample_submission['Y_13'] = pred_Y_13_ensemble"
      ],
      "metadata": {
        "id": "95CiK4GKgU0q"
      },
      "execution_count": null,
      "outputs": []
    },
    {
      "cell_type": "markdown",
      "source": [
        "## Y_14"
      ],
      "metadata": {
        "id": "e_IZH6wweBWt"
      }
    },
    {
      "cell_type": "code",
      "source": [
        "lightgbm_Y_14 = lgb.LGBMRegressor(bagging_fraction=0.562177058115405, bagging_freq=0,\n",
        "              feature_fraction=0.9023546637887719,\n",
        "              learning_rate=0.01637180684883515, min_child_samples=52,\n",
        "              min_split_gain=0.5525322291188884, n_estimators=234,\n",
        "              num_leaves=196, random_state=42, reg_alpha=2.1036670016919905e-10,\n",
        "              reg_lambda=2.9600855173354055).fit(train_x,train_y['Y_14'])"
      ],
      "metadata": {
        "id": "ZByxHnw4I55n"
      },
      "execution_count": null,
      "outputs": []
    },
    {
      "cell_type": "code",
      "source": [
        "xgb_Y_14 = XGBRegressor(base_score=0.5, booster='gbtree', colsample_bylevel=1,\n",
        "             colsample_bynode=1, colsample_bytree=0.6294674641087924, gamma=0,\n",
        "             importance_type='gain', interaction_constraints='',\n",
        "             learning_rate=0.08974284583794521, max_delta_step=0, max_depth=4,\n",
        "             min_child_weight=2,\n",
        "             n_estimators=155, n_jobs=-1, num_parallel_tree=1, random_state=42,\n",
        "             reg_alpha=3.5772679768707163, reg_lambda=1.8484658552802888e-10,\n",
        "             scale_pos_weight=49.04172498933266, subsample=0.907050064431688).fit(train_x,train_y['Y_14'])"
      ],
      "metadata": {
        "colab": {
          "base_uri": "https://localhost:8080/"
        },
        "id": "kl1rY4IfpnnE",
        "outputId": "4b8652da-6275-43a1-b543-de19c72c19c5"
      },
      "execution_count": null,
      "outputs": [
        {
          "output_type": "stream",
          "name": "stdout",
          "text": [
            "[12:05:05] WARNING: /workspace/src/objective/regression_obj.cu:152: reg:linear is now deprecated in favor of reg:squarederror.\n"
          ]
        }
      ]
    },
    {
      "cell_type": "code",
      "source": [
        "gbr_Y_14 = GradientBoostingRegressor(learning_rate=0.03055416183446505, max_depth=11,\n",
        "                          max_features=0.9271370796951685,\n",
        "                          min_impurity_decrease=1.7601560220672312e-08,\n",
        "                          min_samples_leaf=3, min_samples_split=6,\n",
        "                          n_estimators=155, random_state=42,\n",
        "                          subsample=0.811344094127121).fit(train_x,train_y['Y_14'])"
      ],
      "metadata": {
        "id": "lV-q-XJrI-Si"
      },
      "execution_count": null,
      "outputs": []
    },
    {
      "cell_type": "code",
      "source": [
        "catboost_Y_14 = CatBoostRegressor(depth = 10,l2_leaf_reg = 147,\n",
        " loss_function = 'RMSE',\n",
        " border_count = 254,\n",
        " verbose = False,\n",
        " random_strength = 0.17872556513557733,\n",
        " task_type = 'CPU',\n",
        " n_estimators = 282,\n",
        " random_state = 42,\n",
        " eta = 0.17036206261250125).fit(train_x,train_y['Y_14'])"
      ],
      "metadata": {
        "id": "J_L0I6ueI-OA"
      },
      "execution_count": null,
      "outputs": []
    },
    {
      "cell_type": "code",
      "source": [
        "rf_Y_14 = RandomForestRegressor(n_estimators = 1000, max_features = 'auto', \n",
        "                            min_samples_split = 100, bootstrap = True,\n",
        "                            max_depth = 20, \n",
        "                            max_samples = 1,\n",
        "                            min_samples_leaf = 25).fit(train_x,train_y['Y_14'])"
      ],
      "metadata": {
        "id": "B1X6sJtbZxL-"
      },
      "execution_count": null,
      "outputs": []
    },
    {
      "cell_type": "code",
      "source": [
        "pred_gb_Y_14 = gbr_Y_14.predict(test_x)\n",
        "# pred_xgb_Y_14 = xgb_Y_14.predict(test_x)\n",
        "pred_lgb_Y_14 = lightgbm_Y_14.predict(test_x)\n",
        "pred_cat_Y_14 = catboost_Y_14.predict(test_x)\n",
        "pred_rf_Y_14 = rf_Y_14.predict(test_x)"
      ],
      "metadata": {
        "id": "U6Z81so-muav"
      },
      "execution_count": null,
      "outputs": []
    },
    {
      "cell_type": "code",
      "source": [
        "pred_Y_14_ensemble =  pred_gb_Y_14*0.3 +pred_lgb_Y_14*0.5 + pred_cat_Y_14*0.1 + pred_rf_Y_14*0.1"
      ],
      "metadata": {
        "id": "z5f3QOZEragX"
      },
      "execution_count": null,
      "outputs": []
    },
    {
      "cell_type": "code",
      "source": [
        "sample_submission['Y_14'] = pred_Y_14_ensemble"
      ],
      "metadata": {
        "id": "3HaB7JeRey-a"
      },
      "execution_count": null,
      "outputs": []
    },
    {
      "cell_type": "markdown",
      "source": [
        "## 제출"
      ],
      "metadata": {
        "id": "kjhoppPZe1GH"
      }
    },
    {
      "cell_type": "code",
      "source": [
        "sample_submission.to_csv('submission_0823.csv', index = False)"
      ],
      "metadata": {
        "id": "iDi8pisse1sA"
      },
      "execution_count": null,
      "outputs": []
    },
    {
      "cell_type": "code",
      "source": [
        "pd.read_csv('submission_0823.csv')"
      ],
      "metadata": {
        "id": "AYgL_WIpU8F7"
      },
      "execution_count": null,
      "outputs": []
    },
    {
      "cell_type": "code",
      "source": [],
      "metadata": {
        "id": "4LZm2H0_U-2r"
      },
      "execution_count": null,
      "outputs": []
    }
  ]
}